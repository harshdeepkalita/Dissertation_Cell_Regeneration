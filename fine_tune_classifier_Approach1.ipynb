{
 "cells": [
  {
   "cell_type": "code",
   "execution_count": 1,
   "id": "65eeccab-39dd-4bdf-8ca0-f437ee2bf53f",
   "metadata": {},
   "outputs": [
    {
     "data": {
      "text/plain": [
       "device(type='cpu')"
      ]
     },
     "execution_count": 1,
     "metadata": {},
     "output_type": "execute_result"
    }
   ],
   "source": [
    "import torch\n",
    "from torch.utils.data import Dataset, Subset,DataLoader\n",
    "from torchvision.transforms import ToTensor\n",
    "import matplotlib.pyplot as plt\n",
    "import nibabel as nib\n",
    "from pathlib import Path\n",
    "import numpy as np\n",
    "from typing import Tuple\n",
    "import torch.nn as nn\n",
    "from tqdm import tqdm\n",
    "from sklearn.model_selection import StratifiedKFold\n",
    "from sklearn.metrics import roc_curve, roc_auc_score\n",
    "from models.resnet import resnet10\n",
    "\n",
    "device = torch.device(\"cuda\" if torch.cuda.is_available() else \"cpu\")\n",
    "device"
   ]
  },
  {
   "cell_type": "code",
   "execution_count": 2,
   "id": "767a382a-cc44-4c92-b521-38ea865ea509",
   "metadata": {},
   "outputs": [],
   "source": [
    "class CustomDataset(Dataset):\n",
    "    def __init__(self, txt_file, base_dir=Path(\".\"), transform=None):\n",
    "        self.paths = []\n",
    "        self.transform = transform\n",
    "\n",
    "        with open(txt_file, \"r\") as f:\n",
    "            for line in f:\n",
    "                relative_path, label = line.strip().split()\n",
    "                full_path = base_dir / relative_path\n",
    "                self.paths.append((full_path, int(label)))\n",
    "\n",
    "    def __getitem__(self, idx):\n",
    "        file_path, label = self.paths[idx]\n",
    "        zstack = nib.load(file_path)\n",
    "        data = zstack.get_fdata().astype(np.float32)\n",
    "\n",
    "        # Normalize via log1p and min-max scaling\n",
    "        data = np.log1p(data)\n",
    "        data_min, data_max = data.min(), data.max()\n",
    "        data = (data - data_min) / (data_max - data_min) if data_max > data_min else np.zeros_like(data)\n",
    "\n",
    "        # Convert to tensor and add channel dimension: (1, D, H, W)\n",
    "        data = torch.tensor(data).unsqueeze(0)\n",
    "\n",
    "        # Resize to (1, 32, 256, 256) using trilinear interpolation\n",
    "        data = torch.nn.functional.interpolate(\n",
    "            data.unsqueeze(0),  # Add batch dimension: (1, 1, D, H, W)\n",
    "            size=(32, 256, 256),\n",
    "            mode='trilinear',\n",
    "            align_corners=False\n",
    "        ).squeeze(0)  # Remove batch dimension → (1, 32, 256, 256)\n",
    "\n",
    "        label = torch.tensor(label, dtype=torch.float32)\n",
    "        return data, label\n",
    "\n",
    "    def __len__(self):\n",
    "        return len(self.paths)"
   ]
  },
  {
   "cell_type": "code",
   "execution_count": 3,
   "id": "e8157b32-b2af-43d4-afe7-57821b26d025",
   "metadata": {},
   "outputs": [
    {
     "name": "stdout",
     "output_type": "stream",
     "text": [
      "example is path: data/ZStacksWTMUT/images/MUT_0050.nii.gz and its label: 1\n",
      "Class 1: 238 (50.85%)\n",
      "Class 0: 230 (49.15%)\n"
     ]
    },
    {
     "data": {
      "image/png": "[encoded data removed]",
      "text/plain": [
       "<Figure size 640x480 with 1 Axes>"
      ]
     },
     "metadata": {},
     "output_type": "display_data"
    }
   ],
   "source": [
    "##APPROACH 0 - epoch 10, frozen encoder weights trained with fc layer unfrozen\n",
    "# train_set = CustomDataset('data/ZStacksWTMUT/train.txt', base_dir=Path(\"data/ZStacksWTMUT\") )\n",
    "# val_set = CustomDataset('data/ZStacksWTMUT/val.txt', base_dir=Path(\"data/ZStacksWTMUT\"))\n",
    "\n",
    "# train_loader = torch.utils.data.DataLoader(train_set, batch_size=4, shuffle=True)\n",
    "# val_loader = torch.utils.data.DataLoader(val_set, batch_size=4, shuffle=False)\n",
    "\n",
    "## APPROACH 1 - epoch 10, frozen encoder weights trained with fc layer unfrozen implementing Stratified K CV\n",
    "dataset = CustomDataset('data/ZStacksWTMUT/trainval.txt', base_dir=Path(\"data/ZStacksWTMUT\") )\n",
    "\n",
    "y = [label for _,label in dataset.paths] # path to samples\n",
    "X = [path for path,label in dataset.paths] # corresponding labels\n",
    "print(f'example is path: {X[0]} and its label: {y[0]}')\n",
    "\n",
    "\n",
    "from collections import Counter\n",
    "class_counts = Counter(y)\n",
    "total = sum(class_counts.values())\n",
    "for cls, count in class_counts.items():\n",
    "    print(f\"Class {cls}: {count} ({count / total:.2%})\")\n",
    "\n",
    "\n",
    "plt.bar(class_counts.keys(), class_counts.values())\n",
    "plt.xticks([0, 1])\n",
    "plt.xlabel(\"Class Label\")\n",
    "plt.ylabel(\"Number of Samples\")\n",
    "plt.title(\"Class Distribution\")\n",
    "plt.show()"
   ]
  },
  {
   "cell_type": "code",
   "execution_count": 4,
   "id": "7e4ae388-1e9f-4974-a4c1-7a66297cffc7",
   "metadata": {},
   "outputs": [
    {
     "name": "stdout",
     "output_type": "stream",
     "text": [
      "input shape is torch.Size([1, 32, 256, 256])\n"
     ]
    }
   ],
   "source": [
    "input_shape = dataset[0][0].shape\n",
    "print(f'input shape is {input_shape}')"
   ]
  },
  {
   "cell_type": "code",
   "execution_count": 11,
   "id": "141e965a-ccbb-41cf-926d-adfd37102277",
   "metadata": {},
   "outputs": [],
   "source": [
    "def training_loop(model, loader: torch.utils.data.DataLoader,\n",
    "                  loss_fn: torch.nn.Module,\n",
    "                  optimiser: torch.optim.Optimizer,\n",
    "                  device: torch.device) -> Tuple[float, float]:\n",
    "    \n",
    "    model.train()\n",
    "    train_loss, total_correct, total_samples = 0.0, 0, 0\n",
    "\n",
    "    for batch, (X, y) in tqdm(enumerate(loader), total=len(loader), desc=\"Training\"):\n",
    "        X, y = X.to(device), y.to(device)\n",
    "        y_pred = model(X)\n",
    "        y = y.view_as(y_pred)\n",
    "        loss = loss_fn(y_pred, y)\n",
    "\n",
    "        train_loss += loss.item()\n",
    "        optimiser.zero_grad()\n",
    "        loss.backward()\n",
    "        optimiser.step()\n",
    "\n",
    "        preds = torch.sigmoid(y_pred) >= 0.5\n",
    "        correct = (preds == y).sum().item()\n",
    "        total_correct += correct\n",
    "        total_samples += y.size(0)\n",
    "\n",
    "    train_loss /= len(loader)\n",
    "    train_acc = total_correct / total_samples\n",
    "\n",
    "    return train_loss, train_acc"
   ]
  },
  {
   "cell_type": "code",
   "execution_count": 12,
   "id": "b8603e07-45b3-4936-987b-7bc65da60693",
   "metadata": {},
   "outputs": [],
   "source": [
    "def validation_loop(model, loader: torch.utils.data.DataLoader,\n",
    "                    loss_fn: torch.nn.Module,\n",
    "                    device: torch.device) -> Tuple[float, float]:\n",
    "    \n",
    "    model.eval()\n",
    "    val_loss, total_correct, total_samples = 0.0, 0, 0\n",
    "\n",
    "    with torch.no_grad(): \n",
    "        for X, y in tqdm(loader, desc='Validation'):\n",
    "            X, y = X.to(device), y.to(device)\n",
    "            y_pred = model(X)\n",
    "            y = y.view_as(y_pred)\n",
    "            loss = loss_fn(y_pred, y)\n",
    "            val_loss += loss.item()\n",
    "\n",
    "            preds = torch.sigmoid(y_pred) >= 0.5\n",
    "            correct = (preds == y).sum().item()\n",
    "            total_correct += correct\n",
    "            total_samples += y.size(0)\n",
    "\n",
    "    val_loss /= len(loader)\n",
    "    val_acc = total_correct / total_samples\n",
    "\n",
    "    return val_loss, val_acc"
   ]
  },
  {
   "cell_type": "code",
   "execution_count": 14,
   "id": "75df22cb-a246-46d6-a7ab-b7be9dc71af3",
   "metadata": {},
   "outputs": [
    {
     "name": "stdout",
     "output_type": "stream",
     "text": [
      "\n",
      "Fold 1\n"
     ]
    },
    {
     "name": "stderr",
     "output_type": "stream",
     "text": [
      "Training: 100%|█████████████████████████████████| 47/47 [07:06<00:00,  9.07s/it]\n",
      "Validation: 100%|███████████████████████████████| 12/12 [01:46<00:00,  8.90s/it]\n"
     ]
    },
    {
     "name": "stdout",
     "output_type": "stream",
     "text": [
      "Epoch 1: Train Loss: 0.7167, Train Acc: 0.4920 | Val Loss: 0.6902, Val Acc: 0.4894\n"
     ]
    },
    {
     "name": "stderr",
     "output_type": "stream",
     "text": [
      "Training: 100%|█████████████████████████████████| 47/47 [07:09<00:00,  9.14s/it]\n",
      "Validation: 100%|███████████████████████████████| 12/12 [01:47<00:00,  8.94s/it]\n"
     ]
    },
    {
     "name": "stdout",
     "output_type": "stream",
     "text": [
      "Epoch 2: Train Loss: 0.6852, Train Acc: 0.6364 | Val Loss: 0.6764, Val Acc: 0.8830\n"
     ]
    },
    {
     "name": "stderr",
     "output_type": "stream",
     "text": [
      "Training: 100%|█████████████████████████████████| 47/47 [20:51<00:00, 26.62s/it]\n",
      "Validation: 100%|███████████████████████████████| 12/12 [01:46<00:00,  8.84s/it]\n"
     ]
    },
    {
     "name": "stdout",
     "output_type": "stream",
     "text": [
      "Epoch 3: Train Loss: 0.6767, Train Acc: 0.5321 | Val Loss: 0.6637, Val Acc: 0.6170\n"
     ]
    },
    {
     "name": "stderr",
     "output_type": "stream",
     "text": [
      "Training: 100%|█████████████████████████████████| 47/47 [07:06<00:00,  9.07s/it]\n",
      "Validation: 100%|███████████████████████████████| 12/12 [01:46<00:00,  8.85s/it]\n"
     ]
    },
    {
     "name": "stdout",
     "output_type": "stream",
     "text": [
      "Epoch 4: Train Loss: 0.6703, Train Acc: 0.6203 | Val Loss: 0.6571, Val Acc: 0.6064\n"
     ]
    },
    {
     "name": "stderr",
     "output_type": "stream",
     "text": [
      "Training: 100%|█████████████████████████████████| 47/47 [07:18<00:00,  9.34s/it]\n",
      "Validation: 100%|███████████████████████████████| 12/12 [01:46<00:00,  8.86s/it]\n"
     ]
    },
    {
     "name": "stdout",
     "output_type": "stream",
     "text": [
      "Epoch 5: Train Loss: 0.6650, Train Acc: 0.5374 | Val Loss: 0.6453, Val Acc: 0.5106\n"
     ]
    },
    {
     "name": "stderr",
     "output_type": "stream",
     "text": [
      "Training: 100%|█████████████████████████████████| 47/47 [07:03<00:00,  9.00s/it]\n",
      "Validation: 100%|███████████████████████████████| 12/12 [01:45<00:00,  8.79s/it]\n"
     ]
    },
    {
     "name": "stdout",
     "output_type": "stream",
     "text": [
      "Epoch 6: Train Loss: 0.6576, Train Acc: 0.5107 | Val Loss: 0.6419, Val Acc: 0.4894\n"
     ]
    },
    {
     "name": "stderr",
     "output_type": "stream",
     "text": [
      "Training: 100%|█████████████████████████████████| 47/47 [07:02<00:00,  8.98s/it]\n",
      "Validation: 100%|███████████████████████████████| 12/12 [01:45<00:00,  8.80s/it]\n"
     ]
    },
    {
     "name": "stdout",
     "output_type": "stream",
     "text": [
      "Epoch 7: Train Loss: 0.6542, Train Acc: 0.5160 | Val Loss: 0.6343, Val Acc: 0.5000\n"
     ]
    },
    {
     "name": "stderr",
     "output_type": "stream",
     "text": [
      "Training: 100%|█████████████████████████████████| 47/47 [07:01<00:00,  8.98s/it]\n",
      "Validation: 100%|███████████████████████████████| 12/12 [01:46<00:00,  8.84s/it]\n"
     ]
    },
    {
     "name": "stdout",
     "output_type": "stream",
     "text": [
      "Epoch 8: Train Loss: 0.6470, Train Acc: 0.5749 | Val Loss: 0.6290, Val Acc: 0.4787\n"
     ]
    },
    {
     "name": "stderr",
     "output_type": "stream",
     "text": [
      "Training: 100%|█████████████████████████████████| 47/47 [07:01<00:00,  8.97s/it]\n",
      "Validation: 100%|███████████████████████████████| 12/12 [01:45<00:00,  8.82s/it]\n"
     ]
    },
    {
     "name": "stdout",
     "output_type": "stream",
     "text": [
      "Epoch 9: Train Loss: 0.6432, Train Acc: 0.5535 | Val Loss: 0.6237, Val Acc: 0.6064\n"
     ]
    },
    {
     "name": "stderr",
     "output_type": "stream",
     "text": [
      "Training: 100%|█████████████████████████████████| 47/47 [07:02<00:00,  8.99s/it]\n",
      "Validation: 100%|███████████████████████████████| 12/12 [01:45<00:00,  8.82s/it]\n"
     ]
    },
    {
     "name": "stdout",
     "output_type": "stream",
     "text": [
      "Epoch 10: Train Loss: 0.6409, Train Acc: 0.5775 | Val Loss: 0.6169, Val Acc: 0.5106\n"
     ]
    },
    {
     "name": "stderr",
     "output_type": "stream",
     "text": [
      "Training: 100%|█████████████████████████████████| 47/47 [07:02<00:00,  8.99s/it]\n",
      "Validation: 100%|███████████████████████████████| 12/12 [01:46<00:00,  8.90s/it]\n"
     ]
    },
    {
     "name": "stdout",
     "output_type": "stream",
     "text": [
      "Epoch 11: Train Loss: 0.6352, Train Acc: 0.6096 | Val Loss: 0.6080, Val Acc: 0.6277\n"
     ]
    },
    {
     "name": "stderr",
     "output_type": "stream",
     "text": [
      "Training: 100%|█████████████████████████████████| 47/47 [07:09<00:00,  9.14s/it]\n",
      "Validation: 100%|███████████████████████████████| 12/12 [01:47<00:00,  8.96s/it]\n"
     ]
    },
    {
     "name": "stdout",
     "output_type": "stream",
     "text": [
      "Epoch 12: Train Loss: 0.6324, Train Acc: 0.5775 | Val Loss: 0.6074, Val Acc: 0.7128\n"
     ]
    },
    {
     "name": "stderr",
     "output_type": "stream",
     "text": [
      "Training: 100%|█████████████████████████████████| 47/47 [07:09<00:00,  9.14s/it]\n",
      "Validation: 100%|███████████████████████████████| 12/12 [01:47<00:00,  8.98s/it]\n"
     ]
    },
    {
     "name": "stdout",
     "output_type": "stream",
     "text": [
      "Epoch 13: Train Loss: 0.6243, Train Acc: 0.6738 | Val Loss: 0.6022, Val Acc: 0.7766\n"
     ]
    },
    {
     "name": "stderr",
     "output_type": "stream",
     "text": [
      "Training: 100%|█████████████████████████████████| 47/47 [07:13<00:00,  9.22s/it]\n",
      "Validation: 100%|███████████████████████████████| 12/12 [01:47<00:00,  8.92s/it]\n"
     ]
    },
    {
     "name": "stdout",
     "output_type": "stream",
     "text": [
      "Epoch 14: Train Loss: 0.6213, Train Acc: 0.6631 | Val Loss: 0.5954, Val Acc: 0.8936\n"
     ]
    },
    {
     "name": "stderr",
     "output_type": "stream",
     "text": [
      "Training: 100%|█████████████████████████████████| 47/47 [07:08<00:00,  9.11s/it]\n",
      "Validation: 100%|███████████████████████████████| 12/12 [01:46<00:00,  8.89s/it]\n"
     ]
    },
    {
     "name": "stdout",
     "output_type": "stream",
     "text": [
      "Epoch 15: Train Loss: 0.6163, Train Acc: 0.6872 | Val Loss: 0.5857, Val Acc: 0.8723\n"
     ]
    },
    {
     "name": "stderr",
     "output_type": "stream",
     "text": [
      "Training: 100%|█████████████████████████████████| 47/47 [07:05<00:00,  9.05s/it]\n",
      "Validation: 100%|███████████████████████████████| 12/12 [01:48<00:00,  9.07s/it]\n"
     ]
    },
    {
     "name": "stdout",
     "output_type": "stream",
     "text": [
      "Epoch 16: Train Loss: 0.6142, Train Acc: 0.6898 | Val Loss: 0.5879, Val Acc: 0.7872\n",
      "  ↳ No improvement in val_loss (1/3)\n"
     ]
    },
    {
     "name": "stderr",
     "output_type": "stream",
     "text": [
      "Training: 100%|█████████████████████████████████| 47/47 [07:14<00:00,  9.24s/it]\n",
      "Validation: 100%|███████████████████████████████| 12/12 [01:50<00:00,  9.20s/it]\n"
     ]
    },
    {
     "name": "stdout",
     "output_type": "stream",
     "text": [
      "Epoch 17: Train Loss: 0.6053, Train Acc: 0.7326 | Val Loss: 0.5820, Val Acc: 0.8085\n"
     ]
    },
    {
     "name": "stderr",
     "output_type": "stream",
     "text": [
      "Training: 100%|█████████████████████████████████| 47/47 [07:11<00:00,  9.18s/it]\n",
      "Validation: 100%|███████████████████████████████| 12/12 [01:48<00:00,  9.08s/it]\n"
     ]
    },
    {
     "name": "stdout",
     "output_type": "stream",
     "text": [
      "Epoch 18: Train Loss: 0.6098, Train Acc: 0.7299 | Val Loss: 0.5779, Val Acc: 0.7872\n"
     ]
    },
    {
     "name": "stderr",
     "output_type": "stream",
     "text": [
      "Training: 100%|█████████████████████████████████| 47/47 [07:11<00:00,  9.17s/it]\n",
      "Validation: 100%|███████████████████████████████| 12/12 [01:47<00:00,  8.99s/it]\n"
     ]
    },
    {
     "name": "stdout",
     "output_type": "stream",
     "text": [
      "Epoch 19: Train Loss: 0.6078, Train Acc: 0.7701 | Val Loss: 0.5791, Val Acc: 0.7872\n",
      "  ↳ No improvement in val_loss (1/3)\n"
     ]
    },
    {
     "name": "stderr",
     "output_type": "stream",
     "text": [
      "Training: 100%|█████████████████████████████████| 47/47 [07:22<00:00,  9.41s/it]\n",
      "Validation: 100%|███████████████████████████████| 12/12 [01:48<00:00,  9.05s/it]\n"
     ]
    },
    {
     "name": "stdout",
     "output_type": "stream",
     "text": [
      "Epoch 20: Train Loss: 0.5921, Train Acc: 0.7594 | Val Loss: 0.5647, Val Acc: 0.7872\n"
     ]
    },
    {
     "name": "stderr",
     "output_type": "stream",
     "text": [
      "Training: 100%|█████████████████████████████████| 47/47 [07:08<00:00,  9.13s/it]\n",
      "Validation: 100%|███████████████████████████████| 12/12 [01:48<00:00,  9.03s/it]\n"
     ]
    },
    {
     "name": "stdout",
     "output_type": "stream",
     "text": [
      "Epoch 21: Train Loss: 0.5995, Train Acc: 0.7326 | Val Loss: 0.5656, Val Acc: 0.7872\n",
      "  ↳ No improvement in val_loss (1/3)\n"
     ]
    },
    {
     "name": "stderr",
     "output_type": "stream",
     "text": [
      "Training: 100%|█████████████████████████████████| 47/47 [07:10<00:00,  9.16s/it]\n",
      "Validation: 100%|███████████████████████████████| 12/12 [01:48<00:00,  9.02s/it]\n"
     ]
    },
    {
     "name": "stdout",
     "output_type": "stream",
     "text": [
      "Epoch 22: Train Loss: 0.5871, Train Acc: 0.7834 | Val Loss: 0.5612, Val Acc: 0.7872\n"
     ]
    },
    {
     "name": "stderr",
     "output_type": "stream",
     "text": [
      "Training: 100%|█████████████████████████████████| 47/47 [07:03<00:00,  9.00s/it]\n",
      "Validation: 100%|███████████████████████████████| 12/12 [01:46<00:00,  8.85s/it]\n"
     ]
    },
    {
     "name": "stdout",
     "output_type": "stream",
     "text": [
      "Epoch 23: Train Loss: 0.5875, Train Acc: 0.7513 | Val Loss: 0.5630, Val Acc: 0.7766\n",
      "  ↳ No improvement in val_loss (1/3)\n"
     ]
    },
    {
     "name": "stderr",
     "output_type": "stream",
     "text": [
      "Training: 100%|█████████████████████████████████| 47/47 [07:03<00:00,  9.01s/it]\n",
      "Validation: 100%|███████████████████████████████| 12/12 [01:46<00:00,  8.85s/it]\n"
     ]
    },
    {
     "name": "stdout",
     "output_type": "stream",
     "text": [
      "Epoch 24: Train Loss: 0.5892, Train Acc: 0.7326 | Val Loss: 0.5439, Val Acc: 0.8085\n"
     ]
    },
    {
     "name": "stderr",
     "output_type": "stream",
     "text": [
      "Training: 100%|█████████████████████████████████| 47/47 [07:04<00:00,  9.03s/it]\n",
      "Validation: 100%|███████████████████████████████| 12/12 [01:45<00:00,  8.81s/it]\n"
     ]
    },
    {
     "name": "stdout",
     "output_type": "stream",
     "text": [
      "Epoch 25: Train Loss: 0.5775, Train Acc: 0.7888 | Val Loss: 0.5516, Val Acc: 0.7766\n",
      "  ↳ No improvement in val_loss (1/3)\n"
     ]
    },
    {
     "name": "stderr",
     "output_type": "stream",
     "text": [
      "Training: 100%|█████████████████████████████████| 47/47 [07:05<00:00,  9.04s/it]\n",
      "Validation: 100%|███████████████████████████████| 12/12 [01:46<00:00,  8.89s/it]\n"
     ]
    },
    {
     "name": "stdout",
     "output_type": "stream",
     "text": [
      "Epoch 26: Train Loss: 0.5741, Train Acc: 0.7727 | Val Loss: 0.5479, Val Acc: 0.7766\n",
      "  ↳ No improvement in val_loss (2/3)\n"
     ]
    },
    {
     "name": "stderr",
     "output_type": "stream",
     "text": [
      "Training: 100%|█████████████████████████████████| 47/47 [07:05<00:00,  9.06s/it]\n",
      "Validation: 100%|███████████████████████████████| 12/12 [01:46<00:00,  8.86s/it]\n"
     ]
    },
    {
     "name": "stdout",
     "output_type": "stream",
     "text": [
      "Epoch 27: Train Loss: 0.5746, Train Acc: 0.7513 | Val Loss: 0.5402, Val Acc: 0.7766\n"
     ]
    },
    {
     "name": "stderr",
     "output_type": "stream",
     "text": [
      "Training: 100%|█████████████████████████████████| 47/47 [07:05<00:00,  9.04s/it]\n",
      "Validation: 100%|███████████████████████████████| 12/12 [01:46<00:00,  8.88s/it]\n"
     ]
    },
    {
     "name": "stdout",
     "output_type": "stream",
     "text": [
      "Epoch 28: Train Loss: 0.5764, Train Acc: 0.7701 | Val Loss: 0.5232, Val Acc: 0.7979\n"
     ]
    },
    {
     "name": "stderr",
     "output_type": "stream",
     "text": [
      "Training: 100%|█████████████████████████████████| 47/47 [07:05<00:00,  9.06s/it]\n",
      "Validation: 100%|███████████████████████████████| 12/12 [01:49<00:00,  9.10s/it]\n"
     ]
    },
    {
     "name": "stdout",
     "output_type": "stream",
     "text": [
      "Epoch 29: Train Loss: 0.5793, Train Acc: 0.7246 | Val Loss: 0.5283, Val Acc: 0.7872\n",
      "  ↳ No improvement in val_loss (1/3)\n"
     ]
    },
    {
     "name": "stderr",
     "output_type": "stream",
     "text": [
      "Training: 100%|█████████████████████████████████| 47/47 [07:10<00:00,  9.16s/it]\n",
      "Validation: 100%|███████████████████████████████| 12/12 [01:46<00:00,  8.86s/it]\n"
     ]
    },
    {
     "name": "stdout",
     "output_type": "stream",
     "text": [
      "Epoch 30: Train Loss: 0.5724, Train Acc: 0.7968 | Val Loss: 0.5289, Val Acc: 0.7766\n",
      "  ↳ No improvement in val_loss (2/3)\n",
      "\n",
      "Fold 2\n"
     ]
    },
    {
     "name": "stderr",
     "output_type": "stream",
     "text": [
      "Training: 100%|█████████████████████████████████| 47/47 [22:51<00:00, 29.19s/it]\n",
      "Validation: 100%|███████████████████████████████| 12/12 [01:43<00:00,  8.64s/it]\n"
     ]
    },
    {
     "name": "stdout",
     "output_type": "stream",
     "text": [
      "Epoch 1: Train Loss: 0.6908, Train Acc: 0.5080 | Val Loss: 0.6921, Val Acc: 0.5106\n"
     ]
    },
    {
     "name": "stderr",
     "output_type": "stream",
     "text": [
      "Training: 100%|█████████████████████████████████| 47/47 [07:11<00:00,  9.19s/it]\n",
      "Validation: 100%|███████████████████████████████| 12/12 [01:49<00:00,  9.09s/it]\n"
     ]
    },
    {
     "name": "stdout",
     "output_type": "stream",
     "text": [
      "Epoch 2: Train Loss: 0.6821, Train Acc: 0.4786 | Val Loss: 0.6848, Val Acc: 0.4894\n"
     ]
    },
    {
     "name": "stderr",
     "output_type": "stream",
     "text": [
      "Training: 100%|█████████████████████████████████| 47/47 [07:14<00:00,  9.24s/it]\n",
      "Validation: 100%|███████████████████████████████| 12/12 [01:53<00:00,  9.46s/it]\n"
     ]
    },
    {
     "name": "stdout",
     "output_type": "stream",
     "text": [
      "Epoch 3: Train Loss: 0.6760, Train Acc: 0.4786 | Val Loss: 0.6785, Val Acc: 0.4468\n"
     ]
    },
    {
     "name": "stderr",
     "output_type": "stream",
     "text": [
      "Training: 100%|█████████████████████████████████| 47/47 [07:17<00:00,  9.31s/it]\n",
      "Validation: 100%|███████████████████████████████| 12/12 [01:48<00:00,  9.06s/it]\n"
     ]
    },
    {
     "name": "stdout",
     "output_type": "stream",
     "text": [
      "Epoch 4: Train Loss: 0.6677, Train Acc: 0.5027 | Val Loss: 0.6730, Val Acc: 0.3723\n"
     ]
    },
    {
     "name": "stderr",
     "output_type": "stream",
     "text": [
      "Training: 100%|█████████████████████████████████| 47/47 [07:22<00:00,  9.41s/it]\n",
      "Validation: 100%|███████████████████████████████| 12/12 [01:47<00:00,  8.98s/it]\n"
     ]
    },
    {
     "name": "stdout",
     "output_type": "stream",
     "text": [
      "Epoch 5: Train Loss: 0.6689, Train Acc: 0.4866 | Val Loss: 0.6696, Val Acc: 0.3617\n"
     ]
    },
    {
     "name": "stderr",
     "output_type": "stream",
     "text": [
      "Training: 100%|█████████████████████████████████| 47/47 [07:19<00:00,  9.34s/it]\n",
      "Validation: 100%|███████████████████████████████| 12/12 [01:52<00:00,  9.37s/it]\n"
     ]
    },
    {
     "name": "stdout",
     "output_type": "stream",
     "text": [
      "Epoch 6: Train Loss: 0.6555, Train Acc: 0.5294 | Val Loss: 0.6625, Val Acc: 0.3830\n"
     ]
    },
    {
     "name": "stderr",
     "output_type": "stream",
     "text": [
      "Training: 100%|█████████████████████████████████| 47/47 [07:11<00:00,  9.18s/it]\n",
      "Validation: 100%|███████████████████████████████| 12/12 [01:48<00:00,  9.04s/it]\n"
     ]
    },
    {
     "name": "stdout",
     "output_type": "stream",
     "text": [
      "Epoch 7: Train Loss: 0.6547, Train Acc: 0.4652 | Val Loss: 0.6516, Val Acc: 0.3617\n"
     ]
    },
    {
     "name": "stderr",
     "output_type": "stream",
     "text": [
      "Training: 100%|█████████████████████████████████| 47/47 [07:18<00:00,  9.32s/it]\n",
      "Validation: 100%|███████████████████████████████| 12/12 [01:48<00:00,  9.06s/it]\n"
     ]
    },
    {
     "name": "stdout",
     "output_type": "stream",
     "text": [
      "Epoch 8: Train Loss: 0.6510, Train Acc: 0.5187 | Val Loss: 0.6528, Val Acc: 0.4255\n",
      "  ↳ No improvement in val_loss (1/3)\n"
     ]
    },
    {
     "name": "stderr",
     "output_type": "stream",
     "text": [
      "Training: 100%|█████████████████████████████████| 47/47 [07:15<00:00,  9.26s/it]\n",
      "Validation: 100%|███████████████████████████████| 12/12 [01:48<00:00,  9.07s/it]\n"
     ]
    },
    {
     "name": "stdout",
     "output_type": "stream",
     "text": [
      "Epoch 9: Train Loss: 0.6431, Train Acc: 0.5321 | Val Loss: 0.6416, Val Acc: 0.3830\n"
     ]
    },
    {
     "name": "stderr",
     "output_type": "stream",
     "text": [
      "Training: 100%|█████████████████████████████████| 47/47 [07:14<00:00,  9.25s/it]\n",
      "Validation: 100%|███████████████████████████████| 12/12 [01:46<00:00,  8.85s/it]\n"
     ]
    },
    {
     "name": "stdout",
     "output_type": "stream",
     "text": [
      "Epoch 10: Train Loss: 0.6439, Train Acc: 0.4759 | Val Loss: 0.6340, Val Acc: 0.3617\n"
     ]
    },
    {
     "name": "stderr",
     "output_type": "stream",
     "text": [
      "Training: 100%|█████████████████████████████████| 47/47 [07:12<00:00,  9.21s/it]\n",
      "Validation: 100%|███████████████████████████████| 12/12 [01:48<00:00,  9.01s/it]\n"
     ]
    },
    {
     "name": "stdout",
     "output_type": "stream",
     "text": [
      "Epoch 11: Train Loss: 0.6401, Train Acc: 0.4947 | Val Loss: 0.6275, Val Acc: 0.3936\n"
     ]
    },
    {
     "name": "stderr",
     "output_type": "stream",
     "text": [
      "Training: 100%|█████████████████████████████████| 47/47 [07:22<00:00,  9.42s/it]\n",
      "Validation: 100%|███████████████████████████████| 12/12 [01:50<00:00,  9.24s/it]\n"
     ]
    },
    {
     "name": "stdout",
     "output_type": "stream",
     "text": [
      "Epoch 12: Train Loss: 0.6345, Train Acc: 0.5749 | Val Loss: 0.6257, Val Acc: 0.5532\n"
     ]
    },
    {
     "name": "stderr",
     "output_type": "stream",
     "text": [
      "Training: 100%|█████████████████████████████████| 47/47 [07:14<00:00,  9.25s/it]\n",
      "Validation: 100%|███████████████████████████████| 12/12 [01:47<00:00,  8.93s/it]\n"
     ]
    },
    {
     "name": "stdout",
     "output_type": "stream",
     "text": [
      "Epoch 13: Train Loss: 0.6314, Train Acc: 0.5294 | Val Loss: 0.6137, Val Acc: 0.3830\n"
     ]
    },
    {
     "name": "stderr",
     "output_type": "stream",
     "text": [
      "Training: 100%|█████████████████████████████████| 47/47 [07:12<00:00,  9.20s/it]\n",
      "Validation: 100%|███████████████████████████████| 12/12 [01:46<00:00,  8.89s/it]\n"
     ]
    },
    {
     "name": "stdout",
     "output_type": "stream",
     "text": [
      "Epoch 14: Train Loss: 0.6235, Train Acc: 0.5187 | Val Loss: 0.6093, Val Acc: 0.5745\n"
     ]
    },
    {
     "name": "stderr",
     "output_type": "stream",
     "text": [
      "Training: 100%|█████████████████████████████████| 47/47 [07:12<00:00,  9.20s/it]\n",
      "Validation: 100%|███████████████████████████████| 12/12 [01:47<00:00,  8.92s/it]\n"
     ]
    },
    {
     "name": "stdout",
     "output_type": "stream",
     "text": [
      "Epoch 15: Train Loss: 0.6217, Train Acc: 0.6283 | Val Loss: 0.6084, Val Acc: 0.5851\n"
     ]
    },
    {
     "name": "stderr",
     "output_type": "stream",
     "text": [
      "Training: 100%|█████████████████████████████████| 47/47 [07:12<00:00,  9.20s/it]\n",
      "Validation: 100%|███████████████████████████████| 12/12 [01:47<00:00,  8.93s/it]\n"
     ]
    },
    {
     "name": "stdout",
     "output_type": "stream",
     "text": [
      "Epoch 16: Train Loss: 0.6144, Train Acc: 0.6337 | Val Loss: 0.5994, Val Acc: 0.5957\n"
     ]
    },
    {
     "name": "stderr",
     "output_type": "stream",
     "text": [
      "Training: 100%|█████████████████████████████████| 47/47 [07:13<00:00,  9.23s/it]\n",
      "Validation: 100%|███████████████████████████████| 12/12 [01:47<00:00,  8.94s/it]\n"
     ]
    },
    {
     "name": "stdout",
     "output_type": "stream",
     "text": [
      "Epoch 17: Train Loss: 0.6138, Train Acc: 0.6283 | Val Loss: 0.5931, Val Acc: 0.7447\n"
     ]
    },
    {
     "name": "stderr",
     "output_type": "stream",
     "text": [
      "Training: 100%|█████████████████████████████████| 47/47 [07:18<00:00,  9.33s/it]\n",
      "Validation: 100%|███████████████████████████████| 12/12 [01:49<00:00,  9.10s/it]\n"
     ]
    },
    {
     "name": "stdout",
     "output_type": "stream",
     "text": [
      "Epoch 18: Train Loss: 0.6108, Train Acc: 0.6283 | Val Loss: 0.5890, Val Acc: 0.7553\n"
     ]
    },
    {
     "name": "stderr",
     "output_type": "stream",
     "text": [
      "Training: 100%|█████████████████████████████████| 47/47 [07:20<00:00,  9.38s/it]\n",
      "Validation: 100%|███████████████████████████████| 12/12 [01:49<00:00,  9.13s/it]\n"
     ]
    },
    {
     "name": "stdout",
     "output_type": "stream",
     "text": [
      "Epoch 19: Train Loss: 0.6109, Train Acc: 0.6925 | Val Loss: 0.5913, Val Acc: 0.7447\n",
      "  ↳ No improvement in val_loss (1/3)\n"
     ]
    },
    {
     "name": "stderr",
     "output_type": "stream",
     "text": [
      "Training: 100%|█████████████████████████████████| 47/47 [07:18<00:00,  9.34s/it]\n",
      "Validation: 100%|███████████████████████████████| 12/12 [01:47<00:00,  8.98s/it]\n"
     ]
    },
    {
     "name": "stdout",
     "output_type": "stream",
     "text": [
      "Epoch 20: Train Loss: 0.5986, Train Acc: 0.7219 | Val Loss: 0.5862, Val Acc: 0.7553\n"
     ]
    },
    {
     "name": "stderr",
     "output_type": "stream",
     "text": [
      "Training: 100%|█████████████████████████████████| 47/47 [07:16<00:00,  9.29s/it]\n",
      "Validation: 100%|███████████████████████████████| 12/12 [01:46<00:00,  8.86s/it]\n"
     ]
    },
    {
     "name": "stdout",
     "output_type": "stream",
     "text": [
      "Epoch 21: Train Loss: 0.6016, Train Acc: 0.7005 | Val Loss: 0.5848, Val Acc: 0.7447\n"
     ]
    },
    {
     "name": "stderr",
     "output_type": "stream",
     "text": [
      "Training: 100%|█████████████████████████████████| 47/47 [07:20<00:00,  9.38s/it]\n",
      "Validation: 100%|███████████████████████████████| 12/12 [01:49<00:00,  9.10s/it]\n"
     ]
    },
    {
     "name": "stdout",
     "output_type": "stream",
     "text": [
      "Epoch 22: Train Loss: 0.6040, Train Acc: 0.7166 | Val Loss: 0.5633, Val Acc: 0.7872\n"
     ]
    },
    {
     "name": "stderr",
     "output_type": "stream",
     "text": [
      "Training: 100%|█████████████████████████████████| 47/47 [07:19<00:00,  9.35s/it]\n",
      "Validation: 100%|███████████████████████████████| 12/12 [01:49<00:00,  9.10s/it]\n"
     ]
    },
    {
     "name": "stdout",
     "output_type": "stream",
     "text": [
      "Epoch 23: Train Loss: 0.5965, Train Acc: 0.7353 | Val Loss: 0.5688, Val Acc: 0.7553\n",
      "  ↳ No improvement in val_loss (1/3)\n"
     ]
    },
    {
     "name": "stderr",
     "output_type": "stream",
     "text": [
      "Training: 100%|█████████████████████████████████| 47/47 [07:17<00:00,  9.31s/it]\n",
      "Validation: 100%|███████████████████████████████| 12/12 [01:48<00:00,  9.07s/it]\n"
     ]
    },
    {
     "name": "stdout",
     "output_type": "stream",
     "text": [
      "Epoch 24: Train Loss: 0.5995, Train Acc: 0.6925 | Val Loss: 0.5675, Val Acc: 0.7660\n",
      "  ↳ No improvement in val_loss (2/3)\n"
     ]
    },
    {
     "name": "stderr",
     "output_type": "stream",
     "text": [
      "Training: 100%|█████████████████████████████████| 47/47 [07:18<00:00,  9.34s/it]\n",
      "Validation: 100%|███████████████████████████████| 12/12 [01:47<00:00,  8.94s/it]\n"
     ]
    },
    {
     "name": "stdout",
     "output_type": "stream",
     "text": [
      "Epoch 25: Train Loss: 0.5920, Train Acc: 0.7166 | Val Loss: 0.5631, Val Acc: 0.7872\n"
     ]
    },
    {
     "name": "stderr",
     "output_type": "stream",
     "text": [
      "Training: 100%|█████████████████████████████████| 47/47 [07:12<00:00,  9.20s/it]\n",
      "Validation: 100%|███████████████████████████████| 12/12 [01:46<00:00,  8.89s/it]\n"
     ]
    },
    {
     "name": "stdout",
     "output_type": "stream",
     "text": [
      "Epoch 26: Train Loss: 0.5755, Train Acc: 0.7914 | Val Loss: 0.5553, Val Acc: 0.7872\n"
     ]
    },
    {
     "name": "stderr",
     "output_type": "stream",
     "text": [
      "Training: 100%|█████████████████████████████████| 47/47 [07:15<00:00,  9.27s/it]\n",
      "Validation: 100%|███████████████████████████████| 12/12 [01:49<00:00,  9.16s/it]\n"
     ]
    },
    {
     "name": "stdout",
     "output_type": "stream",
     "text": [
      "Epoch 27: Train Loss: 0.5802, Train Acc: 0.7647 | Val Loss: 0.5547, Val Acc: 0.7872\n"
     ]
    },
    {
     "name": "stderr",
     "output_type": "stream",
     "text": [
      "Training: 100%|█████████████████████████████████| 47/47 [07:15<00:00,  9.26s/it]\n",
      "Validation: 100%|███████████████████████████████| 12/12 [01:49<00:00,  9.12s/it]\n"
     ]
    },
    {
     "name": "stdout",
     "output_type": "stream",
     "text": [
      "Epoch 28: Train Loss: 0.5792, Train Acc: 0.7594 | Val Loss: 0.5549, Val Acc: 0.7872\n",
      "  ↳ No improvement in val_loss (1/3)\n"
     ]
    },
    {
     "name": "stderr",
     "output_type": "stream",
     "text": [
      "Training: 100%|█████████████████████████████████| 47/47 [07:10<00:00,  9.17s/it]\n",
      "Validation: 100%|███████████████████████████████| 12/12 [01:47<00:00,  8.95s/it]\n"
     ]
    },
    {
     "name": "stdout",
     "output_type": "stream",
     "text": [
      "Epoch 29: Train Loss: 0.5759, Train Acc: 0.7273 | Val Loss: 0.5458, Val Acc: 0.7660\n"
     ]
    },
    {
     "name": "stderr",
     "output_type": "stream",
     "text": [
      "Training: 100%|█████████████████████████████████| 47/47 [07:16<00:00,  9.29s/it]\n",
      "Validation: 100%|███████████████████████████████| 12/12 [01:48<00:00,  9.07s/it]\n"
     ]
    },
    {
     "name": "stdout",
     "output_type": "stream",
     "text": [
      "Epoch 30: Train Loss: 0.5663, Train Acc: 0.7487 | Val Loss: 0.5456, Val Acc: 0.7872\n",
      "\n",
      "Fold 3\n"
     ]
    },
    {
     "name": "stderr",
     "output_type": "stream",
     "text": [
      "Training: 100%|█████████████████████████████████| 47/47 [07:25<00:00,  9.48s/it]\n",
      "Validation: 100%|███████████████████████████████| 12/12 [01:47<00:00,  9.00s/it]\n"
     ]
    },
    {
     "name": "stdout",
     "output_type": "stream",
     "text": [
      "Epoch 1: Train Loss: 0.6661, Train Acc: 0.7914 | Val Loss: 0.6702, Val Acc: 0.5106\n"
     ]
    },
    {
     "name": "stderr",
     "output_type": "stream",
     "text": [
      "Training: 100%|█████████████████████████████████| 47/47 [07:15<00:00,  9.27s/it]\n",
      "Validation: 100%|███████████████████████████████| 12/12 [01:50<00:00,  9.20s/it]\n"
     ]
    },
    {
     "name": "stdout",
     "output_type": "stream",
     "text": [
      "Epoch 2: Train Loss: 0.6581, Train Acc: 0.5802 | Val Loss: 0.6419, Val Acc: 0.6596\n"
     ]
    },
    {
     "name": "stderr",
     "output_type": "stream",
     "text": [
      "Training: 100%|█████████████████████████████████| 47/47 [07:23<00:00,  9.43s/it]\n",
      "Validation: 100%|███████████████████████████████| 12/12 [01:50<00:00,  9.25s/it]\n"
     ]
    },
    {
     "name": "stdout",
     "output_type": "stream",
     "text": [
      "Epoch 3: Train Loss: 0.6564, Train Acc: 0.5749 | Val Loss: 0.6363, Val Acc: 0.6915\n"
     ]
    },
    {
     "name": "stderr",
     "output_type": "stream",
     "text": [
      "Training: 100%|█████████████████████████████████| 47/47 [07:18<00:00,  9.32s/it]\n",
      "Validation: 100%|███████████████████████████████| 12/12 [01:46<00:00,  8.91s/it]\n"
     ]
    },
    {
     "name": "stdout",
     "output_type": "stream",
     "text": [
      "Epoch 4: Train Loss: 0.6485, Train Acc: 0.5963 | Val Loss: 0.6211, Val Acc: 0.5851\n"
     ]
    },
    {
     "name": "stderr",
     "output_type": "stream",
     "text": [
      "Training: 100%|█████████████████████████████████| 47/47 [07:20<00:00,  9.37s/it]\n",
      "Validation: 100%|███████████████████████████████| 12/12 [01:48<00:00,  9.01s/it]\n"
     ]
    },
    {
     "name": "stdout",
     "output_type": "stream",
     "text": [
      "Epoch 5: Train Loss: 0.6404, Train Acc: 0.5909 | Val Loss: 0.6235, Val Acc: 0.6277\n",
      "  ↳ No improvement in val_loss (1/3)\n"
     ]
    },
    {
     "name": "stderr",
     "output_type": "stream",
     "text": [
      "Training: 100%|█████████████████████████████████| 47/47 [07:16<00:00,  9.29s/it]\n",
      "Validation: 100%|███████████████████████████████| 12/12 [01:47<00:00,  8.99s/it]\n"
     ]
    },
    {
     "name": "stdout",
     "output_type": "stream",
     "text": [
      "Epoch 6: Train Loss: 0.6357, Train Acc: 0.5668 | Val Loss: 0.6149, Val Acc: 0.7128\n"
     ]
    },
    {
     "name": "stderr",
     "output_type": "stream",
     "text": [
      "Training: 100%|█████████████████████████████████| 47/47 [07:24<00:00,  9.46s/it]\n",
      "Validation: 100%|███████████████████████████████| 12/12 [01:52<00:00,  9.36s/it]\n"
     ]
    },
    {
     "name": "stdout",
     "output_type": "stream",
     "text": [
      "Epoch 7: Train Loss: 0.6331, Train Acc: 0.6283 | Val Loss: 0.6110, Val Acc: 0.6170\n"
     ]
    },
    {
     "name": "stderr",
     "output_type": "stream",
     "text": [
      "Training: 100%|█████████████████████████████████| 47/47 [07:26<00:00,  9.50s/it]\n",
      "Validation: 100%|███████████████████████████████| 12/12 [01:50<00:00,  9.24s/it]\n"
     ]
    },
    {
     "name": "stdout",
     "output_type": "stream",
     "text": [
      "Epoch 8: Train Loss: 0.6294, Train Acc: 0.5802 | Val Loss: 0.6027, Val Acc: 0.7553\n"
     ]
    },
    {
     "name": "stderr",
     "output_type": "stream",
     "text": [
      "Training: 100%|█████████████████████████████████| 47/47 [07:22<00:00,  9.41s/it]\n",
      "Validation: 100%|███████████████████████████████| 12/12 [01:48<00:00,  9.04s/it]\n"
     ]
    },
    {
     "name": "stdout",
     "output_type": "stream",
     "text": [
      "Epoch 9: Train Loss: 0.6274, Train Acc: 0.6390 | Val Loss: 0.5886, Val Acc: 0.7447\n"
     ]
    },
    {
     "name": "stderr",
     "output_type": "stream",
     "text": [
      "Training: 100%|█████████████████████████████████| 47/47 [07:14<00:00,  9.24s/it]\n",
      "Validation: 100%|███████████████████████████████| 12/12 [01:46<00:00,  8.87s/it]\n"
     ]
    },
    {
     "name": "stdout",
     "output_type": "stream",
     "text": [
      "Epoch 10: Train Loss: 0.6212, Train Acc: 0.6979 | Val Loss: 0.5912, Val Acc: 0.7660\n",
      "  ↳ No improvement in val_loss (1/3)\n"
     ]
    },
    {
     "name": "stderr",
     "output_type": "stream",
     "text": [
      "Training: 100%|█████████████████████████████████| 47/47 [07:14<00:00,  9.25s/it]\n",
      "Validation: 100%|███████████████████████████████| 12/12 [01:48<00:00,  9.07s/it]\n"
     ]
    },
    {
     "name": "stdout",
     "output_type": "stream",
     "text": [
      "Epoch 11: Train Loss: 0.6219, Train Acc: 0.6818 | Val Loss: 0.5929, Val Acc: 0.7766\n",
      "  ↳ No improvement in val_loss (2/3)\n"
     ]
    },
    {
     "name": "stderr",
     "output_type": "stream",
     "text": [
      "Training: 100%|█████████████████████████████████| 47/47 [07:15<00:00,  9.27s/it]\n",
      "Validation: 100%|███████████████████████████████| 12/12 [01:48<00:00,  9.07s/it]\n"
     ]
    },
    {
     "name": "stdout",
     "output_type": "stream",
     "text": [
      "Epoch 12: Train Loss: 0.6162, Train Acc: 0.7139 | Val Loss: 0.5764, Val Acc: 0.7872\n"
     ]
    },
    {
     "name": "stderr",
     "output_type": "stream",
     "text": [
      "Training: 100%|█████████████████████████████████| 47/47 [07:15<00:00,  9.27s/it]\n",
      "Validation: 100%|███████████████████████████████| 12/12 [01:49<00:00,  9.16s/it]\n"
     ]
    },
    {
     "name": "stdout",
     "output_type": "stream",
     "text": [
      "Epoch 13: Train Loss: 0.6082, Train Acc: 0.6979 | Val Loss: 0.5745, Val Acc: 0.7872\n"
     ]
    },
    {
     "name": "stderr",
     "output_type": "stream",
     "text": [
      "Training: 100%|█████████████████████████████████| 47/47 [07:21<00:00,  9.40s/it]\n",
      "Validation: 100%|███████████████████████████████| 12/12 [01:51<00:00,  9.29s/it]\n"
     ]
    },
    {
     "name": "stdout",
     "output_type": "stream",
     "text": [
      "Epoch 14: Train Loss: 0.6166, Train Acc: 0.6979 | Val Loss: 0.5783, Val Acc: 0.7766\n",
      "  ↳ No improvement in val_loss (1/3)\n"
     ]
    },
    {
     "name": "stderr",
     "output_type": "stream",
     "text": [
      "Training: 100%|█████████████████████████████████| 47/47 [07:25<00:00,  9.48s/it]\n",
      "Validation: 100%|███████████████████████████████| 12/12 [01:48<00:00,  9.03s/it]\n"
     ]
    },
    {
     "name": "stdout",
     "output_type": "stream",
     "text": [
      "Epoch 15: Train Loss: 0.6076, Train Acc: 0.7380 | Val Loss: 0.5676, Val Acc: 0.7766\n"
     ]
    },
    {
     "name": "stderr",
     "output_type": "stream",
     "text": [
      "Training: 100%|█████████████████████████████████| 47/47 [07:16<00:00,  9.29s/it]\n",
      "Validation: 100%|███████████████████████████████| 12/12 [01:48<00:00,  9.02s/it]\n"
     ]
    },
    {
     "name": "stdout",
     "output_type": "stream",
     "text": [
      "Epoch 16: Train Loss: 0.6020, Train Acc: 0.7701 | Val Loss: 0.5634, Val Acc: 0.7766\n"
     ]
    },
    {
     "name": "stderr",
     "output_type": "stream",
     "text": [
      "Training: 100%|█████████████████████████████████| 47/47 [07:20<00:00,  9.38s/it]\n",
      "Validation: 100%|███████████████████████████████| 12/12 [01:51<00:00,  9.29s/it]\n"
     ]
    },
    {
     "name": "stdout",
     "output_type": "stream",
     "text": [
      "Epoch 17: Train Loss: 0.5990, Train Acc: 0.7487 | Val Loss: 0.5516, Val Acc: 0.7872\n"
     ]
    },
    {
     "name": "stderr",
     "output_type": "stream",
     "text": [
      "Training: 100%|█████████████████████████████████| 47/47 [07:24<00:00,  9.47s/it]\n",
      "Validation: 100%|███████████████████████████████| 12/12 [01:46<00:00,  8.91s/it]\n"
     ]
    },
    {
     "name": "stdout",
     "output_type": "stream",
     "text": [
      "Epoch 18: Train Loss: 0.5942, Train Acc: 0.7888 | Val Loss: 0.5462, Val Acc: 0.7872\n"
     ]
    },
    {
     "name": "stderr",
     "output_type": "stream",
     "text": [
      "Training: 100%|█████████████████████████████████| 47/47 [07:17<00:00,  9.31s/it]\n",
      "Validation: 100%|███████████████████████████████| 12/12 [01:51<00:00,  9.33s/it]\n"
     ]
    },
    {
     "name": "stdout",
     "output_type": "stream",
     "text": [
      "Epoch 19: Train Loss: 0.6015, Train Acc: 0.7193 | Val Loss: 0.5561, Val Acc: 0.7872\n",
      "  ↳ No improvement in val_loss (1/3)\n"
     ]
    },
    {
     "name": "stderr",
     "output_type": "stream",
     "text": [
      "Training: 100%|█████████████████████████████████| 47/47 [07:24<00:00,  9.45s/it]\n",
      "Validation: 100%|███████████████████████████████| 12/12 [01:51<00:00,  9.28s/it]\n"
     ]
    },
    {
     "name": "stdout",
     "output_type": "stream",
     "text": [
      "Epoch 20: Train Loss: 0.5936, Train Acc: 0.7353 | Val Loss: 0.5503, Val Acc: 0.7872\n",
      "  ↳ No improvement in val_loss (2/3)\n"
     ]
    },
    {
     "name": "stderr",
     "output_type": "stream",
     "text": [
      "Training: 100%|█████████████████████████████████| 47/47 [07:20<00:00,  9.38s/it]\n",
      "Validation: 100%|███████████████████████████████| 12/12 [01:53<00:00,  9.44s/it]\n"
     ]
    },
    {
     "name": "stdout",
     "output_type": "stream",
     "text": [
      "Epoch 21: Train Loss: 0.5841, Train Acc: 0.7995 | Val Loss: 0.5432, Val Acc: 0.7872\n"
     ]
    },
    {
     "name": "stderr",
     "output_type": "stream",
     "text": [
      "Training: 100%|█████████████████████████████████| 47/47 [07:28<00:00,  9.55s/it]\n",
      "Validation: 100%|███████████████████████████████| 12/12 [01:50<00:00,  9.23s/it]\n"
     ]
    },
    {
     "name": "stdout",
     "output_type": "stream",
     "text": [
      "Epoch 22: Train Loss: 0.5830, Train Acc: 0.7513 | Val Loss: 0.5409, Val Acc: 0.7872\n"
     ]
    },
    {
     "name": "stderr",
     "output_type": "stream",
     "text": [
      "Training: 100%|█████████████████████████████████| 47/47 [07:21<00:00,  9.39s/it]\n",
      "Validation: 100%|███████████████████████████████| 12/12 [01:48<00:00,  9.08s/it]\n"
     ]
    },
    {
     "name": "stdout",
     "output_type": "stream",
     "text": [
      "Epoch 23: Train Loss: 0.5892, Train Acc: 0.7326 | Val Loss: 0.5235, Val Acc: 0.7872\n"
     ]
    },
    {
     "name": "stderr",
     "output_type": "stream",
     "text": [
      "Training: 100%|█████████████████████████████████| 47/47 [07:16<00:00,  9.28s/it]\n",
      "Validation: 100%|███████████████████████████████| 12/12 [01:54<00:00,  9.52s/it]\n"
     ]
    },
    {
     "name": "stdout",
     "output_type": "stream",
     "text": [
      "Epoch 24: Train Loss: 0.5714, Train Acc: 0.7701 | Val Loss: 0.5290, Val Acc: 0.7872\n",
      "  ↳ No improvement in val_loss (1/3)\n"
     ]
    },
    {
     "name": "stderr",
     "output_type": "stream",
     "text": [
      "Training: 100%|█████████████████████████████████| 47/47 [07:26<00:00,  9.50s/it]\n",
      "Validation: 100%|███████████████████████████████| 12/12 [01:49<00:00,  9.12s/it]\n"
     ]
    },
    {
     "name": "stdout",
     "output_type": "stream",
     "text": [
      "Epoch 25: Train Loss: 0.5736, Train Acc: 0.7487 | Val Loss: 0.5340, Val Acc: 0.7872\n",
      "  ↳ No improvement in val_loss (2/3)\n"
     ]
    },
    {
     "name": "stderr",
     "output_type": "stream",
     "text": [
      "Training: 100%|█████████████████████████████████| 47/47 [07:12<00:00,  9.21s/it]\n",
      "Validation: 100%|███████████████████████████████| 12/12 [01:48<00:00,  9.08s/it]\n"
     ]
    },
    {
     "name": "stdout",
     "output_type": "stream",
     "text": [
      "Epoch 26: Train Loss: 0.5772, Train Acc: 0.7460 | Val Loss: 0.5419, Val Acc: 0.7872\n",
      "  ↳ No improvement in val_loss (3/3)\n",
      "Early stopping triggered.\n",
      "\n",
      "Fold 4\n"
     ]
    },
    {
     "name": "stderr",
     "output_type": "stream",
     "text": [
      "Training: 100%|█████████████████████████████████| 47/47 [07:13<00:00,  9.22s/it]\n",
      "Validation: 100%|███████████████████████████████| 12/12 [01:49<00:00,  9.14s/it]\n"
     ]
    },
    {
     "name": "stdout",
     "output_type": "stream",
     "text": [
      "Epoch 1: Train Loss: 0.7083, Train Acc: 0.2827 | Val Loss: 0.6980, Val Acc: 0.4301\n"
     ]
    },
    {
     "name": "stderr",
     "output_type": "stream",
     "text": [
      "Training: 100%|█████████████████████████████████| 47/47 [07:22<00:00,  9.41s/it]\n",
      "Validation: 100%|███████████████████████████████| 12/12 [01:51<00:00,  9.28s/it]\n"
     ]
    },
    {
     "name": "stdout",
     "output_type": "stream",
     "text": [
      "Epoch 2: Train Loss: 0.6959, Train Acc: 0.4507 | Val Loss: 0.6913, Val Acc: 0.5054\n"
     ]
    },
    {
     "name": "stderr",
     "output_type": "stream",
     "text": [
      "Training: 100%|█████████████████████████████████| 47/47 [07:14<00:00,  9.25s/it]\n",
      "Validation: 100%|███████████████████████████████| 12/12 [01:47<00:00,  8.95s/it]\n"
     ]
    },
    {
     "name": "stdout",
     "output_type": "stream",
     "text": [
      "Epoch 3: Train Loss: 0.6895, Train Acc: 0.4693 | Val Loss: 0.6845, Val Acc: 0.5054\n"
     ]
    },
    {
     "name": "stderr",
     "output_type": "stream",
     "text": [
      "Training: 100%|█████████████████████████████████| 47/47 [07:09<00:00,  9.14s/it]\n",
      "Validation: 100%|███████████████████████████████| 12/12 [01:44<00:00,  8.73s/it]\n"
     ]
    },
    {
     "name": "stdout",
     "output_type": "stream",
     "text": [
      "Epoch 4: Train Loss: 0.6802, Train Acc: 0.4853 | Val Loss: 0.6783, Val Acc: 0.4086\n"
     ]
    },
    {
     "name": "stderr",
     "output_type": "stream",
     "text": [
      "Training: 100%|█████████████████████████████████| 47/47 [07:11<00:00,  9.18s/it]\n",
      "Validation: 100%|███████████████████████████████| 12/12 [01:45<00:00,  8.80s/it]\n"
     ]
    },
    {
     "name": "stdout",
     "output_type": "stream",
     "text": [
      "Epoch 5: Train Loss: 0.6738, Train Acc: 0.4427 | Val Loss: 0.6728, Val Acc: 0.5376\n"
     ]
    },
    {
     "name": "stderr",
     "output_type": "stream",
     "text": [
      "Training: 100%|█████████████████████████████████| 47/47 [07:20<00:00,  9.36s/it]\n",
      "Validation: 100%|███████████████████████████████| 12/12 [01:46<00:00,  8.86s/it]\n"
     ]
    },
    {
     "name": "stdout",
     "output_type": "stream",
     "text": [
      "Epoch 6: Train Loss: 0.6684, Train Acc: 0.4720 | Val Loss: 0.6660, Val Acc: 0.5376\n"
     ]
    },
    {
     "name": "stderr",
     "output_type": "stream",
     "text": [
      "Training: 100%|█████████████████████████████████| 47/47 [07:22<00:00,  9.42s/it]\n",
      "Validation: 100%|███████████████████████████████| 12/12 [01:51<00:00,  9.26s/it]\n"
     ]
    },
    {
     "name": "stdout",
     "output_type": "stream",
     "text": [
      "Epoch 7: Train Loss: 0.6597, Train Acc: 0.4880 | Val Loss: 0.6595, Val Acc: 0.3871\n"
     ]
    },
    {
     "name": "stderr",
     "output_type": "stream",
     "text": [
      "Training: 100%|█████████████████████████████████| 47/47 [07:23<00:00,  9.43s/it]\n",
      "Validation: 100%|███████████████████████████████| 12/12 [01:48<00:00,  9.04s/it]\n"
     ]
    },
    {
     "name": "stdout",
     "output_type": "stream",
     "text": [
      "Epoch 8: Train Loss: 0.6553, Train Acc: 0.4587 | Val Loss: 0.6562, Val Acc: 0.3763\n"
     ]
    },
    {
     "name": "stderr",
     "output_type": "stream",
     "text": [
      "Training: 100%|█████████████████████████████████| 47/47 [07:15<00:00,  9.27s/it]\n",
      "Validation: 100%|███████████████████████████████| 12/12 [01:46<00:00,  8.87s/it]\n"
     ]
    },
    {
     "name": "stdout",
     "output_type": "stream",
     "text": [
      "Epoch 9: Train Loss: 0.6498, Train Acc: 0.5040 | Val Loss: 0.6480, Val Acc: 0.3763\n"
     ]
    },
    {
     "name": "stderr",
     "output_type": "stream",
     "text": [
      "Training: 100%|█████████████████████████████████| 47/47 [07:18<00:00,  9.33s/it]\n",
      "Validation: 100%|███████████████████████████████| 12/12 [01:46<00:00,  8.85s/it]\n"
     ]
    },
    {
     "name": "stdout",
     "output_type": "stream",
     "text": [
      "Epoch 10: Train Loss: 0.6524, Train Acc: 0.4960 | Val Loss: 0.6462, Val Acc: 0.5161\n"
     ]
    },
    {
     "name": "stderr",
     "output_type": "stream",
     "text": [
      "Training: 100%|█████████████████████████████████| 47/47 [07:19<00:00,  9.35s/it]\n",
      "Validation: 100%|███████████████████████████████| 12/12 [01:48<00:00,  9.05s/it]\n"
     ]
    },
    {
     "name": "stdout",
     "output_type": "stream",
     "text": [
      "Epoch 11: Train Loss: 0.6458, Train Acc: 0.5067 | Val Loss: 0.6434, Val Acc: 0.5161\n"
     ]
    },
    {
     "name": "stderr",
     "output_type": "stream",
     "text": [
      "Training: 100%|█████████████████████████████████| 47/47 [07:20<00:00,  9.37s/it]\n",
      "Validation: 100%|███████████████████████████████| 12/12 [01:49<00:00,  9.08s/it]\n"
     ]
    },
    {
     "name": "stdout",
     "output_type": "stream",
     "text": [
      "Epoch 12: Train Loss: 0.6355, Train Acc: 0.5200 | Val Loss: 0.6384, Val Acc: 0.4301\n"
     ]
    },
    {
     "name": "stderr",
     "output_type": "stream",
     "text": [
      "Training: 100%|█████████████████████████████████| 47/47 [07:22<00:00,  9.41s/it]\n",
      "Validation: 100%|██████████████████████████████| 12/12 [38:44<00:00, 193.70s/it]\n"
     ]
    },
    {
     "name": "stdout",
     "output_type": "stream",
     "text": [
      "Epoch 13: Train Loss: 0.6336, Train Acc: 0.5227 | Val Loss: 0.6306, Val Acc: 0.5699\n"
     ]
    },
    {
     "name": "stderr",
     "output_type": "stream",
     "text": [
      "Training: 100%|█████████████████████████████████| 47/47 [07:06<00:00,  9.08s/it]\n",
      "Validation: 100%|███████████████████████████████| 12/12 [01:47<00:00,  8.95s/it]\n"
     ]
    },
    {
     "name": "stdout",
     "output_type": "stream",
     "text": [
      "Epoch 14: Train Loss: 0.6321, Train Acc: 0.5467 | Val Loss: 0.6265, Val Acc: 0.5161\n"
     ]
    },
    {
     "name": "stderr",
     "output_type": "stream",
     "text": [
      "Training: 100%|█████████████████████████████████| 47/47 [07:12<00:00,  9.21s/it]\n",
      "Validation: 100%|███████████████████████████████| 12/12 [01:46<00:00,  8.83s/it]\n"
     ]
    },
    {
     "name": "stdout",
     "output_type": "stream",
     "text": [
      "Epoch 15: Train Loss: 0.6218, Train Acc: 0.6267 | Val Loss: 0.6249, Val Acc: 0.5484\n"
     ]
    },
    {
     "name": "stderr",
     "output_type": "stream",
     "text": [
      "Training: 100%|█████████████████████████████████| 47/47 [07:06<00:00,  9.07s/it]\n",
      "Validation: 100%|███████████████████████████████| 12/12 [01:45<00:00,  8.77s/it]\n"
     ]
    },
    {
     "name": "stdout",
     "output_type": "stream",
     "text": [
      "Epoch 16: Train Loss: 0.6242, Train Acc: 0.5733 | Val Loss: 0.6155, Val Acc: 0.6129\n"
     ]
    },
    {
     "name": "stderr",
     "output_type": "stream",
     "text": [
      "Training: 100%|█████████████████████████████████| 47/47 [07:04<00:00,  9.04s/it]\n",
      "Validation: 100%|███████████████████████████████| 12/12 [01:44<00:00,  8.75s/it]\n"
     ]
    },
    {
     "name": "stdout",
     "output_type": "stream",
     "text": [
      "Epoch 17: Train Loss: 0.6218, Train Acc: 0.6027 | Val Loss: 0.6131, Val Acc: 0.7204\n"
     ]
    },
    {
     "name": "stderr",
     "output_type": "stream",
     "text": [
      "Training: 100%|█████████████████████████████████| 47/47 [07:04<00:00,  9.04s/it]\n",
      "Validation: 100%|███████████████████████████████| 12/12 [01:44<00:00,  8.75s/it]\n"
     ]
    },
    {
     "name": "stdout",
     "output_type": "stream",
     "text": [
      "Epoch 18: Train Loss: 0.6174, Train Acc: 0.6693 | Val Loss: 0.6141, Val Acc: 0.7204\n",
      "  ↳ No improvement in val_loss (1/3)\n"
     ]
    },
    {
     "name": "stderr",
     "output_type": "stream",
     "text": [
      "Training: 100%|█████████████████████████████████| 47/47 [07:05<00:00,  9.05s/it]\n",
      "Validation: 100%|███████████████████████████████| 12/12 [01:45<00:00,  8.77s/it]\n"
     ]
    },
    {
     "name": "stdout",
     "output_type": "stream",
     "text": [
      "Epoch 19: Train Loss: 0.6101, Train Acc: 0.6827 | Val Loss: 0.6101, Val Acc: 0.7097\n"
     ]
    },
    {
     "name": "stderr",
     "output_type": "stream",
     "text": [
      "Training: 100%|█████████████████████████████████| 47/47 [07:05<00:00,  9.05s/it]\n",
      "Validation: 100%|███████████████████████████████| 12/12 [01:44<00:00,  8.74s/it]\n"
     ]
    },
    {
     "name": "stdout",
     "output_type": "stream",
     "text": [
      "Epoch 20: Train Loss: 0.6047, Train Acc: 0.6933 | Val Loss: 0.6033, Val Acc: 0.7312\n"
     ]
    },
    {
     "name": "stderr",
     "output_type": "stream",
     "text": [
      "Training: 100%|█████████████████████████████████| 47/47 [07:05<00:00,  9.05s/it]\n",
      "Validation: 100%|███████████████████████████████| 12/12 [01:44<00:00,  8.75s/it]\n"
     ]
    },
    {
     "name": "stdout",
     "output_type": "stream",
     "text": [
      "Epoch 21: Train Loss: 0.6025, Train Acc: 0.7013 | Val Loss: 0.6011, Val Acc: 0.7312\n"
     ]
    },
    {
     "name": "stderr",
     "output_type": "stream",
     "text": [
      "Training: 100%|█████████████████████████████████| 47/47 [07:05<00:00,  9.06s/it]\n",
      "Validation: 100%|███████████████████████████████| 12/12 [01:45<00:00,  8.78s/it]\n"
     ]
    },
    {
     "name": "stdout",
     "output_type": "stream",
     "text": [
      "Epoch 22: Train Loss: 0.5954, Train Acc: 0.7413 | Val Loss: 0.5935, Val Acc: 0.8172\n"
     ]
    },
    {
     "name": "stderr",
     "output_type": "stream",
     "text": [
      "Training: 100%|█████████████████████████████████| 47/47 [07:05<00:00,  9.05s/it]\n",
      "Validation: 100%|███████████████████████████████| 12/12 [01:44<00:00,  8.74s/it]\n"
     ]
    },
    {
     "name": "stdout",
     "output_type": "stream",
     "text": [
      "Epoch 23: Train Loss: 0.5955, Train Acc: 0.7093 | Val Loss: 0.5961, Val Acc: 0.7204\n",
      "  ↳ No improvement in val_loss (1/3)\n"
     ]
    },
    {
     "name": "stderr",
     "output_type": "stream",
     "text": [
      "Training: 100%|█████████████████████████████████| 47/47 [07:05<00:00,  9.04s/it]\n",
      "Validation: 100%|███████████████████████████████| 12/12 [01:45<00:00,  8.75s/it]\n"
     ]
    },
    {
     "name": "stdout",
     "output_type": "stream",
     "text": [
      "Epoch 24: Train Loss: 0.5843, Train Acc: 0.7840 | Val Loss: 0.5929, Val Acc: 0.7849\n"
     ]
    },
    {
     "name": "stderr",
     "output_type": "stream",
     "text": [
      "Training: 100%|█████████████████████████████████| 47/47 [07:05<00:00,  9.05s/it]\n",
      "Validation: 100%|███████████████████████████████| 12/12 [01:45<00:00,  8.75s/it]\n"
     ]
    },
    {
     "name": "stdout",
     "output_type": "stream",
     "text": [
      "Epoch 25: Train Loss: 0.5858, Train Acc: 0.7547 | Val Loss: 0.5913, Val Acc: 0.7634\n"
     ]
    },
    {
     "name": "stderr",
     "output_type": "stream",
     "text": [
      "Training: 100%|█████████████████████████████████| 47/47 [07:05<00:00,  9.06s/it]\n",
      "Validation: 100%|███████████████████████████████| 12/12 [01:58<00:00,  9.91s/it]\n"
     ]
    },
    {
     "name": "stdout",
     "output_type": "stream",
     "text": [
      "Epoch 26: Train Loss: 0.5784, Train Acc: 0.7920 | Val Loss: 0.5812, Val Acc: 0.7634\n"
     ]
    },
    {
     "name": "stderr",
     "output_type": "stream",
     "text": [
      "Training: 100%|█████████████████████████████████| 47/47 [07:11<00:00,  9.17s/it]\n",
      "Validation: 100%|███████████████████████████████| 12/12 [01:45<00:00,  8.80s/it]\n"
     ]
    },
    {
     "name": "stdout",
     "output_type": "stream",
     "text": [
      "Epoch 27: Train Loss: 0.5842, Train Acc: 0.7600 | Val Loss: 0.5776, Val Acc: 0.7204\n"
     ]
    },
    {
     "name": "stderr",
     "output_type": "stream",
     "text": [
      "Training: 100%|█████████████████████████████████| 47/47 [07:11<00:00,  9.17s/it]\n",
      "Validation: 100%|███████████████████████████████| 12/12 [01:44<00:00,  8.75s/it]\n"
     ]
    },
    {
     "name": "stdout",
     "output_type": "stream",
     "text": [
      "Epoch 28: Train Loss: 0.5754, Train Acc: 0.7707 | Val Loss: 0.5730, Val Acc: 0.7312\n"
     ]
    },
    {
     "name": "stderr",
     "output_type": "stream",
     "text": [
      "Training: 100%|█████████████████████████████████| 47/47 [07:06<00:00,  9.08s/it]\n",
      "Validation: 100%|███████████████████████████████| 12/12 [01:46<00:00,  8.86s/it]\n"
     ]
    },
    {
     "name": "stdout",
     "output_type": "stream",
     "text": [
      "Epoch 29: Train Loss: 0.5689, Train Acc: 0.7440 | Val Loss: 0.5730, Val Acc: 0.7312\n",
      "  ↳ No improvement in val_loss (1/3)\n"
     ]
    },
    {
     "name": "stderr",
     "output_type": "stream",
     "text": [
      "Training: 100%|█████████████████████████████████| 47/47 [07:05<00:00,  9.05s/it]\n",
      "Validation: 100%|███████████████████████████████| 12/12 [01:46<00:00,  8.90s/it]\n"
     ]
    },
    {
     "name": "stdout",
     "output_type": "stream",
     "text": [
      "Epoch 30: Train Loss: 0.5784, Train Acc: 0.7440 | Val Loss: 0.5701, Val Acc: 0.7204\n",
      "\n",
      "Fold 5\n"
     ]
    },
    {
     "name": "stderr",
     "output_type": "stream",
     "text": [
      "Training: 100%|█████████████████████████████████| 47/47 [07:08<00:00,  9.12s/it]\n",
      "Validation: 100%|███████████████████████████████| 12/12 [01:44<00:00,  8.67s/it]\n"
     ]
    },
    {
     "name": "stdout",
     "output_type": "stream",
     "text": [
      "Epoch 1: Train Loss: 0.7090, Train Acc: 0.3733 | Val Loss: 0.6877, Val Acc: 0.4946\n"
     ]
    },
    {
     "name": "stderr",
     "output_type": "stream",
     "text": [
      "Training: 100%|█████████████████████████████████| 47/47 [07:11<00:00,  9.17s/it]\n",
      "Validation: 100%|███████████████████████████████| 12/12 [01:46<00:00,  8.90s/it]\n"
     ]
    },
    {
     "name": "stdout",
     "output_type": "stream",
     "text": [
      "Epoch 2: Train Loss: 0.6867, Train Acc: 0.5947 | Val Loss: 0.6726, Val Acc: 0.7312\n"
     ]
    },
    {
     "name": "stderr",
     "output_type": "stream",
     "text": [
      "Training: 100%|█████████████████████████████████| 47/47 [07:15<00:00,  9.27s/it]\n",
      "Validation: 100%|███████████████████████████████| 12/12 [01:47<00:00,  8.97s/it]\n"
     ]
    },
    {
     "name": "stdout",
     "output_type": "stream",
     "text": [
      "Epoch 3: Train Loss: 0.6780, Train Acc: 0.5920 | Val Loss: 0.6611, Val Acc: 0.7097\n"
     ]
    },
    {
     "name": "stderr",
     "output_type": "stream",
     "text": [
      "Training: 100%|█████████████████████████████████| 47/47 [07:24<00:00,  9.46s/it]\n",
      "Validation: 100%|███████████████████████████████| 12/12 [01:46<00:00,  8.90s/it]\n"
     ]
    },
    {
     "name": "stdout",
     "output_type": "stream",
     "text": [
      "Epoch 4: Train Loss: 0.6692, Train Acc: 0.5387 | Val Loss: 0.6531, Val Acc: 0.5054\n"
     ]
    },
    {
     "name": "stderr",
     "output_type": "stream",
     "text": [
      "Training: 100%|█████████████████████████████████| 47/47 [07:22<00:00,  9.42s/it]\n",
      "Validation: 100%|███████████████████████████████| 12/12 [01:46<00:00,  8.89s/it]\n"
     ]
    },
    {
     "name": "stdout",
     "output_type": "stream",
     "text": [
      "Epoch 5: Train Loss: 0.6608, Train Acc: 0.5013 | Val Loss: 0.6489, Val Acc: 0.4946\n"
     ]
    },
    {
     "name": "stderr",
     "output_type": "stream",
     "text": [
      "Training: 100%|█████████████████████████████████| 47/47 [07:15<00:00,  9.26s/it]\n",
      "Validation: 100%|███████████████████████████████| 12/12 [01:47<00:00,  8.94s/it]\n"
     ]
    },
    {
     "name": "stdout",
     "output_type": "stream",
     "text": [
      "Epoch 6: Train Loss: 0.6586, Train Acc: 0.5253 | Val Loss: 0.6322, Val Acc: 0.4946\n"
     ]
    },
    {
     "name": "stderr",
     "output_type": "stream",
     "text": [
      "Training: 100%|█████████████████████████████████| 47/47 [07:16<00:00,  9.28s/it]\n",
      "Validation: 100%|███████████████████████████████| 12/12 [01:45<00:00,  8.79s/it]\n"
     ]
    },
    {
     "name": "stdout",
     "output_type": "stream",
     "text": [
      "Epoch 7: Train Loss: 0.6525, Train Acc: 0.5573 | Val Loss: 0.6370, Val Acc: 0.4516\n",
      "  ↳ No improvement in val_loss (1/3)\n"
     ]
    },
    {
     "name": "stderr",
     "output_type": "stream",
     "text": [
      "Training: 100%|█████████████████████████████████| 47/47 [07:06<00:00,  9.08s/it]\n",
      "Validation: 100%|███████████████████████████████| 12/12 [01:44<00:00,  8.70s/it]\n"
     ]
    },
    {
     "name": "stdout",
     "output_type": "stream",
     "text": [
      "Epoch 8: Train Loss: 0.6456, Train Acc: 0.5280 | Val Loss: 0.6216, Val Acc: 0.4839\n"
     ]
    },
    {
     "name": "stderr",
     "output_type": "stream",
     "text": [
      "Training: 100%|█████████████████████████████████| 47/47 [07:03<00:00,  9.01s/it]\n",
      "Validation: 100%|███████████████████████████████| 12/12 [01:43<00:00,  8.59s/it]\n"
     ]
    },
    {
     "name": "stdout",
     "output_type": "stream",
     "text": [
      "Epoch 9: Train Loss: 0.6451, Train Acc: 0.4880 | Val Loss: 0.6214, Val Acc: 0.4946\n"
     ]
    },
    {
     "name": "stderr",
     "output_type": "stream",
     "text": [
      "Training: 100%|█████████████████████████████████| 47/47 [07:03<00:00,  9.01s/it]\n",
      "Validation: 100%|███████████████████████████████| 12/12 [01:43<00:00,  8.66s/it]\n"
     ]
    },
    {
     "name": "stdout",
     "output_type": "stream",
     "text": [
      "Epoch 10: Train Loss: 0.6431, Train Acc: 0.5573 | Val Loss: 0.6070, Val Acc: 0.5054\n"
     ]
    },
    {
     "name": "stderr",
     "output_type": "stream",
     "text": [
      "Training: 100%|█████████████████████████████████| 47/47 [07:01<00:00,  8.97s/it]\n",
      "Validation: 100%|███████████████████████████████| 12/12 [01:43<00:00,  8.67s/it]\n"
     ]
    },
    {
     "name": "stdout",
     "output_type": "stream",
     "text": [
      "Epoch 11: Train Loss: 0.6377, Train Acc: 0.6000 | Val Loss: 0.6152, Val Acc: 0.7527\n",
      "  ↳ No improvement in val_loss (1/3)\n"
     ]
    },
    {
     "name": "stderr",
     "output_type": "stream",
     "text": [
      "Training: 100%|█████████████████████████████████| 47/47 [07:04<00:00,  9.03s/it]\n",
      "Validation: 100%|███████████████████████████████| 12/12 [01:43<00:00,  8.63s/it]\n"
     ]
    },
    {
     "name": "stdout",
     "output_type": "stream",
     "text": [
      "Epoch 12: Train Loss: 0.6296, Train Acc: 0.5707 | Val Loss: 0.6009, Val Acc: 0.5054\n"
     ]
    },
    {
     "name": "stderr",
     "output_type": "stream",
     "text": [
      "Training: 100%|█████████████████████████████████| 47/47 [07:11<00:00,  9.18s/it]\n",
      "Validation: 100%|███████████████████████████████| 12/12 [01:45<00:00,  8.79s/it]\n"
     ]
    },
    {
     "name": "stdout",
     "output_type": "stream",
     "text": [
      "Epoch 13: Train Loss: 0.6276, Train Acc: 0.6453 | Val Loss: 0.6040, Val Acc: 0.8602\n",
      "  ↳ No improvement in val_loss (1/3)\n"
     ]
    },
    {
     "name": "stderr",
     "output_type": "stream",
     "text": [
      "Training: 100%|█████████████████████████████████| 47/47 [07:07<00:00,  9.09s/it]\n",
      "Validation: 100%|███████████████████████████████| 12/12 [01:44<00:00,  8.75s/it]\n"
     ]
    },
    {
     "name": "stdout",
     "output_type": "stream",
     "text": [
      "Epoch 14: Train Loss: 0.6252, Train Acc: 0.6373 | Val Loss: 0.5934, Val Acc: 0.8602\n"
     ]
    },
    {
     "name": "stderr",
     "output_type": "stream",
     "text": [
      "Training: 100%|█████████████████████████████████| 47/47 [07:08<00:00,  9.12s/it]\n",
      "Validation: 100%|███████████████████████████████| 12/12 [01:44<00:00,  8.74s/it]\n"
     ]
    },
    {
     "name": "stdout",
     "output_type": "stream",
     "text": [
      "Epoch 15: Train Loss: 0.6220, Train Acc: 0.6613 | Val Loss: 0.5843, Val Acc: 0.7742\n"
     ]
    },
    {
     "name": "stderr",
     "output_type": "stream",
     "text": [
      "Training: 100%|█████████████████████████████████| 47/47 [07:07<00:00,  9.09s/it]\n",
      "Validation: 100%|███████████████████████████████| 12/12 [01:44<00:00,  8.73s/it]\n"
     ]
    },
    {
     "name": "stdout",
     "output_type": "stream",
     "text": [
      "Epoch 16: Train Loss: 0.6105, Train Acc: 0.7093 | Val Loss: 0.5822, Val Acc: 0.8495\n"
     ]
    },
    {
     "name": "stderr",
     "output_type": "stream",
     "text": [
      "Training: 100%|█████████████████████████████████| 47/47 [07:07<00:00,  9.10s/it]\n",
      "Validation: 100%|███████████████████████████████| 12/12 [01:44<00:00,  8.73s/it]\n"
     ]
    },
    {
     "name": "stdout",
     "output_type": "stream",
     "text": [
      "Epoch 17: Train Loss: 0.6093, Train Acc: 0.7360 | Val Loss: 0.5809, Val Acc: 0.7634\n"
     ]
    },
    {
     "name": "stderr",
     "output_type": "stream",
     "text": [
      "Training: 100%|█████████████████████████████████| 47/47 [07:07<00:00,  9.09s/it]\n",
      "Validation: 100%|███████████████████████████████| 12/12 [01:44<00:00,  8.75s/it]\n"
     ]
    },
    {
     "name": "stdout",
     "output_type": "stream",
     "text": [
      "Epoch 18: Train Loss: 0.6107, Train Acc: 0.7147 | Val Loss: 0.5775, Val Acc: 0.7634\n"
     ]
    },
    {
     "name": "stderr",
     "output_type": "stream",
     "text": [
      "Training: 100%|█████████████████████████████████| 47/47 [10:02<00:00, 12.81s/it]\n",
      "Validation: 100%|███████████████████████████████| 12/12 [03:38<00:00, 18.18s/it]\n"
     ]
    },
    {
     "name": "stdout",
     "output_type": "stream",
     "text": [
      "Epoch 19: Train Loss: 0.5969, Train Acc: 0.7973 | Val Loss: 0.5713, Val Acc: 0.9032\n"
     ]
    },
    {
     "name": "stderr",
     "output_type": "stream",
     "text": [
      "Training: 100%|█████████████████████████████████| 47/47 [13:56<00:00, 17.79s/it]\n",
      "Validation: 100%|███████████████████████████████| 12/12 [01:45<00:00,  8.77s/it]\n"
     ]
    },
    {
     "name": "stdout",
     "output_type": "stream",
     "text": [
      "Epoch 20: Train Loss: 0.5993, Train Acc: 0.7493 | Val Loss: 0.5679, Val Acc: 0.7634\n"
     ]
    },
    {
     "name": "stderr",
     "output_type": "stream",
     "text": [
      "Training: 100%|█████████████████████████████████| 47/47 [07:09<00:00,  9.15s/it]\n",
      "Validation: 100%|███████████████████████████████| 12/12 [01:46<00:00,  8.85s/it]\n"
     ]
    },
    {
     "name": "stdout",
     "output_type": "stream",
     "text": [
      "Epoch 21: Train Loss: 0.6023, Train Acc: 0.7013 | Val Loss: 0.5575, Val Acc: 0.7742\n"
     ]
    },
    {
     "name": "stderr",
     "output_type": "stream",
     "text": [
      "Training: 100%|█████████████████████████████████| 47/47 [07:09<00:00,  9.14s/it]\n",
      "Validation: 100%|███████████████████████████████| 12/12 [01:45<00:00,  8.80s/it]\n"
     ]
    },
    {
     "name": "stdout",
     "output_type": "stream",
     "text": [
      "Epoch 22: Train Loss: 0.5902, Train Acc: 0.7333 | Val Loss: 0.5606, Val Acc: 0.7634\n",
      "  ↳ No improvement in val_loss (1/3)\n"
     ]
    },
    {
     "name": "stderr",
     "output_type": "stream",
     "text": [
      "Training: 100%|█████████████████████████████████| 47/47 [07:08<00:00,  9.11s/it]\n",
      "Validation: 100%|███████████████████████████████| 12/12 [01:44<00:00,  8.75s/it]\n"
     ]
    },
    {
     "name": "stdout",
     "output_type": "stream",
     "text": [
      "Epoch 23: Train Loss: 0.5874, Train Acc: 0.7627 | Val Loss: 0.5591, Val Acc: 0.7849\n",
      "  ↳ No improvement in val_loss (2/3)\n"
     ]
    },
    {
     "name": "stderr",
     "output_type": "stream",
     "text": [
      "Training: 100%|█████████████████████████████████| 47/47 [07:10<00:00,  9.16s/it]\n",
      "Validation: 100%|███████████████████████████████| 12/12 [01:45<00:00,  8.79s/it]\n"
     ]
    },
    {
     "name": "stdout",
     "output_type": "stream",
     "text": [
      "Epoch 24: Train Loss: 0.5865, Train Acc: 0.7600 | Val Loss: 0.5399, Val Acc: 0.7957\n"
     ]
    },
    {
     "name": "stderr",
     "output_type": "stream",
     "text": [
      "Training: 100%|█████████████████████████████████| 47/47 [07:11<00:00,  9.19s/it]\n",
      "Validation: 100%|███████████████████████████████| 12/12 [01:45<00:00,  8.79s/it]\n"
     ]
    },
    {
     "name": "stdout",
     "output_type": "stream",
     "text": [
      "Epoch 25: Train Loss: 0.5833, Train Acc: 0.7280 | Val Loss: 0.5480, Val Acc: 0.7849\n",
      "  ↳ No improvement in val_loss (1/3)\n"
     ]
    },
    {
     "name": "stderr",
     "output_type": "stream",
     "text": [
      "Training: 100%|█████████████████████████████████| 47/47 [07:10<00:00,  9.17s/it]\n",
      "Validation: 100%|███████████████████████████████| 12/12 [01:45<00:00,  8.78s/it]\n"
     ]
    },
    {
     "name": "stdout",
     "output_type": "stream",
     "text": [
      "Epoch 26: Train Loss: 0.5786, Train Acc: 0.7813 | Val Loss: 0.5394, Val Acc: 0.8280\n"
     ]
    },
    {
     "name": "stderr",
     "output_type": "stream",
     "text": [
      "Training: 100%|█████████████████████████████████| 47/47 [07:12<00:00,  9.19s/it]\n",
      "Validation: 100%|███████████████████████████████| 12/12 [01:45<00:00,  8.82s/it]\n"
     ]
    },
    {
     "name": "stdout",
     "output_type": "stream",
     "text": [
      "Epoch 27: Train Loss: 0.5769, Train Acc: 0.8000 | Val Loss: 0.5446, Val Acc: 0.7849\n",
      "  ↳ No improvement in val_loss (1/3)\n"
     ]
    },
    {
     "name": "stderr",
     "output_type": "stream",
     "text": [
      "Training: 100%|█████████████████████████████████| 47/47 [07:10<00:00,  9.17s/it]\n",
      "Validation: 100%|███████████████████████████████| 12/12 [01:45<00:00,  8.81s/it]\n"
     ]
    },
    {
     "name": "stdout",
     "output_type": "stream",
     "text": [
      "Epoch 28: Train Loss: 0.5802, Train Acc: 0.7280 | Val Loss: 0.5456, Val Acc: 0.7957\n",
      "  ↳ No improvement in val_loss (2/3)\n"
     ]
    },
    {
     "name": "stderr",
     "output_type": "stream",
     "text": [
      "Training: 100%|█████████████████████████████████| 47/47 [07:09<00:00,  9.14s/it]\n",
      "Validation: 100%|███████████████████████████████| 12/12 [01:45<00:00,  8.75s/it]\n"
     ]
    },
    {
     "name": "stdout",
     "output_type": "stream",
     "text": [
      "Epoch 29: Train Loss: 0.5748, Train Acc: 0.7573 | Val Loss: 0.5319, Val Acc: 0.7957\n"
     ]
    },
    {
     "name": "stderr",
     "output_type": "stream",
     "text": [
      "Training: 100%|█████████████████████████████████| 47/47 [07:12<00:00,  9.20s/it]\n",
      "Validation: 100%|███████████████████████████████| 12/12 [01:46<00:00,  8.90s/it]"
     ]
    },
    {
     "name": "stdout",
     "output_type": "stream",
     "text": [
      "Epoch 30: Train Loss: 0.5721, Train Acc: 0.7227 | Val Loss: 0.5299, Val Acc: 0.7634\n",
      "\n",
      "===== Cross-Validation Summary =====\n",
      "Avg Train Loss: 0.5733\n",
      "Avg Val Loss:   0.5433\n",
      "Avg Train Acc:  0.7516\n",
      "Avg Val Acc:    0.7670\n"
     ]
    },
    {
     "name": "stderr",
     "output_type": "stream",
     "text": [
      "\n"
     ]
    }
   ],
   "source": [
    "all_fold_train_losses = []\n",
    "all_fold_val_losses = []\n",
    "all_fold_train_accuracies = []\n",
    "all_fold_val_accuracies = []\n",
    "\n",
    "skf = StratifiedKFold(n_splits=5, shuffle=True, random_state=42)\n",
    "\n",
    "num_epochs = 30\n",
    "\n",
    "for fold, (train_idx, val_idx) in enumerate(skf.split(X, y)):\n",
    "    print(f\"\\nFold {fold+1}\")\n",
    "\n",
    "    train_set = Subset(dataset, train_idx)\n",
    "    val_set = Subset(dataset, val_idx)\n",
    "    train_loader = DataLoader(train_set, batch_size=8, shuffle=True)\n",
    "    val_loader = DataLoader(val_set, batch_size=8, shuffle=False)\n",
    "\n",
    "    model = resnet10(sample_input_D=32, sample_input_H=256, sample_input_W=256, nclasses=1)\n",
    "    pretrain_weights = \"MedicalNet_pytorch_files/pretrain/resnet_10.pth\"\n",
    "    pretrain_model = torch.load(pretrain_weights, map_location=device)\n",
    "    state_dict = pretrain_model['state_dict']\n",
    "    new_state_dict = {k.replace('module.', ''): v for k, v in state_dict.items()}\n",
    "    model.load_state_dict(new_state_dict, strict=False)\n",
    "    model = model.to(device)\n",
    "\n",
    "    for param in model.parameters():\n",
    "        param.requires_grad = False\n",
    "    for param in model.fc.parameters():\n",
    "        param.requires_grad = True\n",
    "\n",
    "    optimizer = torch.optim.Adam(model.parameters(), lr=1e-4)\n",
    "    loss_fn = nn.BCEWithLogitsLoss()\n",
    "\n",
    "    best_val_loss = float('inf')\n",
    "    patience = 3\n",
    "    patience_counter = 0\n",
    "\n",
    "    train_losses, val_losses = [], []\n",
    "    train_accuracies, val_accuracies = [], []\n",
    "\n",
    "    for e in range(num_epochs):\n",
    "        train_loss, train_acc = training_loop(model, train_loader, loss_fn, optimizer, device)\n",
    "        val_loss, val_acc = validation_loop(model, val_loader, loss_fn, device)\n",
    "\n",
    "        train_losses.append(train_loss)\n",
    "        val_losses.append(val_loss)\n",
    "        train_accuracies.append(train_acc)\n",
    "        val_accuracies.append(val_acc)\n",
    "\n",
    "        print(f\"Epoch {e+1}: \"\n",
    "              f\"Train Loss: {train_loss:.4f}, Train Acc: {train_acc:.4f} | \"\n",
    "              f\"Val Loss: {val_loss:.4f}, Val Acc: {val_acc:.4f}\")\n",
    "\n",
    "        if val_loss < best_val_loss:\n",
    "            best_val_loss = val_loss\n",
    "            patience_counter = 0\n",
    "            torch.save(model.state_dict(), f\"best_model_approach1_fold{fold+1}.pth\")\n",
    "        else:\n",
    "            patience_counter += 1\n",
    "            print(f\"  ↳ No improvement in val_loss ({patience_counter}/{patience})\")\n",
    "\n",
    "        if patience_counter >= patience:\n",
    "            print(\"Early stopping triggered.\")\n",
    "            break\n",
    "\n",
    "    # Save final metrics for this fold\n",
    "    all_fold_train_losses.append(train_losses[-1])\n",
    "    all_fold_val_losses.append(val_losses[-1])\n",
    "    all_fold_train_accuracies.append(train_accuracies[-1])\n",
    "    all_fold_val_accuracies.append(val_accuracies[-1])\n",
    "\n",
    "# After all folds\n",
    "print(\"\\n===== Cross-Validation Summary =====\")\n",
    "print(f\"Avg Train Loss: {np.mean(all_fold_train_losses):.4f}\")\n",
    "print(f\"Avg Val Loss:   {np.mean(all_fold_val_losses):.4f}\")\n",
    "print(f\"Avg Train Acc:  {np.mean(all_fold_train_accuracies):.4f}\")\n",
    "print(f\"Avg Val Acc:    {np.mean(all_fold_val_accuracies):.4f}\")"
   ]
  },
  {
   "cell_type": "code",
   "execution_count": 24,
   "id": "03272f9b-e35b-45d8-8a0e-69d8bef25008",
   "metadata": {},
   "outputs": [
    {
     "name": "stderr",
     "output_type": "stream",
     "text": [
      "Fold 1: 100%|███████████████████████████████████| 25/25 [00:28<00:00,  1.14s/it]\n"
     ]
    },
    {
     "name": "stdout",
     "output_type": "stream",
     "text": [
      "\n",
      "Fold 1 Results:\n",
      "  Accuracy  : 0.7600\n",
      "  Precision : 0.8889\n",
      "  Recall    : 0.6154\n",
      "  F1 Score  : 0.7273\n",
      "  ROC AUC   : 0.9295\n"
     ]
    },
    {
     "name": "stderr",
     "output_type": "stream",
     "text": [
      "Fold 2: 100%|███████████████████████████████████| 25/25 [00:29<00:00,  1.19s/it]\n"
     ]
    },
    {
     "name": "stdout",
     "output_type": "stream",
     "text": [
      "\n",
      "Fold 2 Results:\n",
      "  Accuracy  : 0.8000\n",
      "  Precision : 1.0000\n",
      "  Recall    : 0.6154\n",
      "  F1 Score  : 0.7619\n",
      "  ROC AUC   : 0.9744\n"
     ]
    },
    {
     "name": "stderr",
     "output_type": "stream",
     "text": [
      "Fold 3: 100%|███████████████████████████████████| 25/25 [00:29<00:00,  1.17s/it]\n"
     ]
    },
    {
     "name": "stdout",
     "output_type": "stream",
     "text": [
      "\n",
      "Fold 3 Results:\n",
      "  Accuracy  : 0.7600\n",
      "  Precision : 0.8889\n",
      "  Recall    : 0.6154\n",
      "  F1 Score  : 0.7273\n",
      "  ROC AUC   : 0.9551\n"
     ]
    },
    {
     "name": "stderr",
     "output_type": "stream",
     "text": [
      "Fold 4: 100%|███████████████████████████████████| 25/25 [00:29<00:00,  1.20s/it]\n"
     ]
    },
    {
     "name": "stdout",
     "output_type": "stream",
     "text": [
      "\n",
      "Fold 4 Results:\n",
      "  Accuracy  : 0.8000\n",
      "  Precision : 1.0000\n",
      "  Recall    : 0.6154\n",
      "  F1 Score  : 0.7619\n",
      "  ROC AUC   : 0.9551\n"
     ]
    },
    {
     "name": "stderr",
     "output_type": "stream",
     "text": [
      "Fold 5: 100%|███████████████████████████████████| 25/25 [00:29<00:00,  1.20s/it]"
     ]
    },
    {
     "name": "stdout",
     "output_type": "stream",
     "text": [
      "\n",
      "Fold 5 Results:\n",
      "  Accuracy  : 0.8000\n",
      "  Precision : 1.0000\n",
      "  Recall    : 0.6154\n",
      "  F1 Score  : 0.7619\n",
      "  ROC AUC   : 0.9551\n",
      "\n",
      "===== Cross-Fold Test Summary =====\n",
      "Accuracy  : 0.7840 ± 0.0196\n",
      "Precision : 0.9556 ± 0.0544\n",
      "Recall    : 0.6154 ± 0.0000\n",
      "F1        : 0.7481 ± 0.0170\n",
      "Roc_auc   : 0.9538 ± 0.0143\n"
     ]
    },
    {
     "name": "stderr",
     "output_type": "stream",
     "text": [
      "\n"
     ]
    }
   ],
   "source": [
    "import torch\n",
    "from torch.utils.data import DataLoader\n",
    "from sklearn.metrics import accuracy_score, precision_score, recall_score, f1_score, roc_auc_score\n",
    "import numpy as np\n",
    "from pathlib import Path\n",
    "from tqdm import tqdm\n",
    "\n",
    "device = torch.device(\"cuda\" if torch.cuda.is_available() else \"cpu\")\n",
    "\n",
    "# List of best model files for each fold\n",
    "model_paths = [\n",
    "    \"best_model_approach1_fold1.pth\",\n",
    "    \"best_model_approach1_fold2.pth\",\n",
    "    \"best_model_approach1_fold3.pth\",\n",
    "    \"best_model_approach1_fold4.pth\",\n",
    "    \"best_model_approach1_fold5.pth\"\n",
    "]\n",
    "\n",
    "# Set up test dataset\n",
    "test_set = CustomDataset('data/ZStacksWTMUT/test.txt', base_dir=Path(\"data/ZStacksWTMUT\"))\n",
    "test_loader = DataLoader(test_set, batch_size=1, shuffle=False)\n",
    "\n",
    "# Store metrics for all folds\n",
    "metrics = {\n",
    "    'accuracy': [],\n",
    "    'precision': [],\n",
    "    'recall': [],\n",
    "    'f1': [],\n",
    "    'roc_auc': []\n",
    "}\n",
    "\n",
    "for fold, model_path in enumerate(model_paths, 1):\n",
    "    model = resnet10(sample_input_D=32, sample_input_H=256, sample_input_W=256, nclasses=1)\n",
    "    model.load_state_dict(torch.load(model_path))\n",
    "    model.to(device)\n",
    "    model.eval()\n",
    "\n",
    "    all_preds, all_probs, all_labels = [], [], []\n",
    "\n",
    "    with torch.no_grad():\n",
    "        for inputs, labels in tqdm(test_loader, desc=f\"Fold {fold}\"):\n",
    "            inputs = inputs.to(device)\n",
    "            labels = labels.to(device)\n",
    "\n",
    "            outputs = model(inputs)\n",
    "            probs = torch.sigmoid(outputs).view(-1)\n",
    "            preds = (probs > 0.5).int()\n",
    "\n",
    "            all_preds.extend(preds.cpu().numpy())\n",
    "            all_probs.extend(probs.cpu().numpy())\n",
    "            all_labels.extend(labels.cpu().numpy())\n",
    "\n",
    "    # Compute metrics\n",
    "    acc = accuracy_score(all_labels, all_preds)\n",
    "    prec = precision_score(all_labels, all_preds)\n",
    "    rec = recall_score(all_labels, all_preds)\n",
    "    f1 = f1_score(all_labels, all_preds)\n",
    "    roc_auc = roc_auc_score(all_labels, all_probs)\n",
    "\n",
    "    print(f\"\\nFold {fold} Results:\")\n",
    "    print(f\"  Accuracy  : {acc:.4f}\")\n",
    "    print(f\"  Precision : {prec:.4f}\")\n",
    "    print(f\"  Recall    : {rec:.4f}\")\n",
    "    print(f\"  F1 Score  : {f1:.4f}\")\n",
    "    print(f\"  ROC AUC   : {roc_auc:.4f}\")\n",
    "\n",
    "    metrics['accuracy'].append(acc)\n",
    "    metrics['precision'].append(prec)\n",
    "    metrics['recall'].append(rec)\n",
    "    metrics['f1'].append(f1)\n",
    "    metrics['roc_auc'].append(roc_auc)\n",
    "\n",
    "# Final average + std\n",
    "print(\"\\n===== Cross-Fold Test Summary =====\")\n",
    "for key in metrics:\n",
    "    mean = np.mean(metrics[key])\n",
    "    std = np.std(metrics[key])\n",
    "    print(f\"{key.capitalize():<10}: {mean:.4f} ± {std:.4f}\")"
   ]
  }
 ],
 "metadata": {
  "kernelspec": {
   "display_name": "Python 3 (ipykernel)",
   "language": "python",
   "name": "python3"
  },
  "language_info": {
   "codemirror_mode": {
    "name": "ipython",
    "version": 3
   },
   "file_extension": ".py",
   "mimetype": "text/x-python",
   "name": "python",
   "nbconvert_exporter": "python",
   "pygments_lexer": "ipython3",
   "version": "3.9.21"
  }
 },
 "nbformat": 4,
 "nbformat_minor": 5
}
