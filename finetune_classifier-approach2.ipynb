{
 "cells": [
  {
   "cell_type": "code",
   "execution_count": 2,
   "id": "65eeccab-39dd-4bdf-8ca0-f437ee2bf53f",
   "metadata": {},
   "outputs": [
    {
     "data": {
      "text/plain": [
       "device(type='cpu')"
      ]
     },
     "execution_count": 2,
     "metadata": {},
     "output_type": "execute_result"
    }
   ],
   "source": [
    "import torch\n",
    "from torch.utils.data import Dataset, Subset,DataLoader\n",
    "from torchvision.transforms import ToTensor\n",
    "import matplotlib.pyplot as plt\n",
    "import nibabel as nib\n",
    "from pathlib import Path\n",
    "import numpy as np\n",
    "from typing import Tuple\n",
    "import torch.nn as nn\n",
    "from tqdm import tqdm\n",
    "from sklearn.model_selection import StratifiedKFold\n",
    "from models.resnet import resnet10\n",
    "from sklearn.metrics import accuracy_score, precision_score, recall_score, f1_score, roc_auc_score, roc_curve, auc\n",
    "from numpy import interp\n",
    "\n",
    "device = torch.device(\"cuda\" if torch.cuda.is_available() else \"cpu\")\n",
    "device"
   ]
  },
  {
   "cell_type": "code",
   "execution_count": 45,
   "id": "767a382a-cc44-4c92-b521-38ea865ea509",
   "metadata": {},
   "outputs": [],
   "source": [
    "class CustomDataset(Dataset):\n",
    "    def __init__(self, txt_file, base_dir=Path(\".\"), transform=None):\n",
    "        self.paths = []\n",
    "        self.transform = transform\n",
    "\n",
    "        with open(txt_file, \"r\") as f:\n",
    "            for line in f:\n",
    "                relative_path, label = line.strip().split()\n",
    "                full_path = base_dir / relative_path\n",
    "                self.paths.append((full_path, int(label)))\n",
    "\n",
    "    def __getitem__(self, idx):\n",
    "        file_path, label = self.paths[idx]\n",
    "        zstack = nib.load(file_path)\n",
    "        data = zstack.get_fdata().astype(np.float32)\n",
    "\n",
    "        # Normalize via log1p and min-max scaling\n",
    "        data = np.log1p(data)\n",
    "        data_min, data_max = data.min(), data.max()\n",
    "        data = (data - data_min) / (data_max - data_min) if data_max > data_min else np.zeros_like(data)\n",
    "\n",
    "        # Convert to tensor and add channel dimension: (1, D, H, W)\n",
    "        data = torch.tensor(data).unsqueeze(0)\n",
    "\n",
    "        # Resize to (1, 32, 256, 256) using trilinear interpolation\n",
    "        data = torch.nn.functional.interpolate(\n",
    "            data.unsqueeze(0),  # Add batch dimension: (1, 1, D, H, W)\n",
    "            size=(32, 256, 256),\n",
    "            mode='trilinear',\n",
    "            align_corners=False\n",
    "        ).squeeze(0)  # Remove batch dimension → (1, 32, 256, 256)\n",
    "\n",
    "        label = torch.tensor(label, dtype=torch.float32)\n",
    "        return data, label\n",
    "\n",
    "    def __len__(self):\n",
    "        return len(self.paths)"
   ]
  },
  {
   "cell_type": "code",
   "execution_count": 4,
   "id": "e8157b32-b2af-43d4-afe7-57821b26d025",
   "metadata": {},
   "outputs": [
    {
     "name": "stdout",
     "output_type": "stream",
     "text": [
      "example is path: data/ZStacksWTMUT/images/MUT_0050.nii.gz and its label: 1\n",
      "Class 1: 238 (50.85%)\n",
      "Class 0: 230 (49.15%)\n"
     ]
    },
    {
     "data": {
      "image/png": "[encoded data removed]",
      "text/plain": [
       "<Figure size 640x480 with 1 Axes>"
      ]
     },
     "metadata": {},
     "output_type": "display_data"
    }
   ],
   "source": [
    "dataset = CustomDataset('data/ZStacksWTMUT/trainval.txt', base_dir=Path(\"data/ZStacksWTMUT\") )\n",
    "\n",
    "y = [label for _,label in dataset.paths] # path to samples\n",
    "X = [path for path,label in dataset.paths] # corresponding labels\n",
    "print(f'example is path: {X[0]} and its label: {y[0]}')\n",
    "\n",
    "\n",
    "from collections import Counter\n",
    "class_counts = Counter(y)\n",
    "total = sum(class_counts.values())\n",
    "for cls, count in class_counts.items():\n",
    "    print(f\"Class {cls}: {count} ({count / total:.2%})\")\n",
    "\n",
    "\n",
    "plt.bar(class_counts.keys(), class_counts.values())\n",
    "plt.xticks([0, 1])\n",
    "plt.xlabel(\"Class Label\")\n",
    "plt.ylabel(\"Number of Samples\")\n",
    "plt.title(\"Class Distribution\")\n",
    "plt.show()"
   ]
  },
  {
   "cell_type": "code",
   "execution_count": 5,
   "id": "7e4ae388-1e9f-4974-a4c1-7a66297cffc7",
   "metadata": {},
   "outputs": [
    {
     "name": "stdout",
     "output_type": "stream",
     "text": [
      "input shape is torch.Size([1, 32, 256, 256])\n"
     ]
    }
   ],
   "source": [
    "input_shape = dataset[0][0].shape\n",
    "print(f'input shape is {input_shape}')"
   ]
  },
  {
   "cell_type": "code",
   "execution_count": 6,
   "id": "141e965a-ccbb-41cf-926d-adfd37102277",
   "metadata": {},
   "outputs": [],
   "source": [
    "def training_loop(model, loader: torch.utils.data.DataLoader,\n",
    "                  loss_fn: torch.nn.Module,\n",
    "                  optimiser: torch.optim.Optimizer,\n",
    "                  device: torch.device) -> Tuple[float, float]:\n",
    "    \n",
    "    model.train()\n",
    "    train_loss, total_correct, total_samples = 0.0, 0, 0\n",
    "\n",
    "    for batch, (X, y) in tqdm(enumerate(loader), total=len(loader), desc=\"Training\"):\n",
    "        X, y = X.to(device), y.to(device)\n",
    "        y_pred = model(X)\n",
    "        y = y.view_as(y_pred)\n",
    "        loss = loss_fn(y_pred, y)\n",
    "\n",
    "        train_loss += loss.item()\n",
    "        optimiser.zero_grad()\n",
    "        loss.backward()\n",
    "        optimiser.step()\n",
    "\n",
    "        preds = torch.sigmoid(y_pred) >= 0.5\n",
    "        correct = (preds == y).sum().item()\n",
    "        total_correct += correct\n",
    "        total_samples += y.size(0)\n",
    "\n",
    "    train_loss /= len(loader)\n",
    "    train_acc = total_correct / total_samples\n",
    "\n",
    "    return train_loss, train_acc"
   ]
  },
  {
   "cell_type": "code",
   "execution_count": 7,
   "id": "b8603e07-45b3-4936-987b-7bc65da60693",
   "metadata": {},
   "outputs": [],
   "source": [
    "def validation_loop(model, loader: torch.utils.data.DataLoader,\n",
    "                    loss_fn: torch.nn.Module,\n",
    "                    device: torch.device) -> Tuple[float, float]:\n",
    "    \n",
    "    model.eval()\n",
    "    val_loss, total_correct, total_samples = 0.0, 0, 0\n",
    "\n",
    "    with torch.no_grad(): \n",
    "        for X, y in tqdm(loader, desc='Validation'):\n",
    "            X, y = X.to(device), y.to(device)\n",
    "            y_pred = model(X)\n",
    "            y = y.view_as(y_pred)\n",
    "            loss = loss_fn(y_pred, y)\n",
    "            val_loss += loss.item()\n",
    "\n",
    "            preds = torch.sigmoid(y_pred) >= 0.5\n",
    "            correct = (preds == y).sum().item()\n",
    "            total_correct += correct\n",
    "            total_samples += y.size(0)\n",
    "\n",
    "    val_loss /= len(loader)\n",
    "    val_acc = total_correct / total_samples\n",
    "\n",
    "    return val_loss, val_acc"
   ]
  },
  {
   "cell_type": "code",
   "execution_count": 8,
   "id": "077f0ad7-0128-4a84-a9c4-6acc5e76bd8a",
   "metadata": {},
   "outputs": [],
   "source": [
    "# loss_fn = nn.BCEWithLogitsLoss()\n",
    "# optimizer = torch.optim.Adam(model.parameters(), lr=1e-4)"
   ]
  },
  {
   "cell_type": "code",
   "execution_count": 9,
   "id": "75df22cb-a246-46d6-a7ab-b7be9dc71af3",
   "metadata": {},
   "outputs": [
    {
     "name": "stdout",
     "output_type": "stream",
     "text": [
      "\n",
      "Fold 1\n"
     ]
    },
    {
     "name": "stderr",
     "output_type": "stream",
     "text": [
      "Training: 100%|█████████████████████████████████| 47/47 [10:42<00:00, 13.68s/it]\n",
      "Validation: 100%|███████████████████████████████| 12/12 [01:54<00:00,  9.58s/it]\n"
     ]
    },
    {
     "name": "stdout",
     "output_type": "stream",
     "text": [
      "Epoch 1: Train Loss: 0.6176, Train Acc: 0.7701 | Val Loss: 0.6031, Val Acc: 0.7766\n"
     ]
    },
    {
     "name": "stderr",
     "output_type": "stream",
     "text": [
      "Training: 100%|█████████████████████████████████| 47/47 [15:05<00:00, 19.27s/it]\n",
      "Validation: 100%|███████████████████████████████| 12/12 [01:47<00:00,  8.96s/it]\n"
     ]
    },
    {
     "name": "stdout",
     "output_type": "stream",
     "text": [
      "Epoch 2: Train Loss: 0.4500, Train Acc: 0.8984 | Val Loss: 0.2724, Val Acc: 1.0000\n"
     ]
    },
    {
     "name": "stderr",
     "output_type": "stream",
     "text": [
      "Training: 100%|█████████████████████████████████| 47/47 [10:33<00:00, 13.47s/it]\n",
      "Validation: 100%|███████████████████████████████| 12/12 [01:47<00:00,  8.92s/it]\n"
     ]
    },
    {
     "name": "stdout",
     "output_type": "stream",
     "text": [
      "Epoch 3: Train Loss: 0.2924, Train Acc: 0.9733 | Val Loss: 0.1336, Val Acc: 1.0000\n"
     ]
    },
    {
     "name": "stderr",
     "output_type": "stream",
     "text": [
      "Training: 100%|█████████████████████████████████| 47/47 [10:30<00:00, 13.41s/it]\n",
      "Validation: 100%|███████████████████████████████| 12/12 [01:46<00:00,  8.85s/it]\n"
     ]
    },
    {
     "name": "stdout",
     "output_type": "stream",
     "text": [
      "Epoch 4: Train Loss: 0.1994, Train Acc: 0.9866 | Val Loss: 0.1357, Val Acc: 1.0000\n",
      "  ↳ No improvement in val_loss (1/3)\n"
     ]
    },
    {
     "name": "stderr",
     "output_type": "stream",
     "text": [
      "Training: 100%|█████████████████████████████████| 47/47 [10:27<00:00, 13.36s/it]\n",
      "Validation: 100%|███████████████████████████████| 12/12 [01:45<00:00,  8.82s/it]\n"
     ]
    },
    {
     "name": "stdout",
     "output_type": "stream",
     "text": [
      "Epoch 5: Train Loss: 0.1444, Train Acc: 0.9866 | Val Loss: 0.0638, Val Acc: 1.0000\n"
     ]
    },
    {
     "name": "stderr",
     "output_type": "stream",
     "text": [
      "Training: 100%|█████████████████████████████████| 47/47 [10:23<00:00, 13.26s/it]\n",
      "Validation: 100%|███████████████████████████████| 12/12 [01:46<00:00,  8.89s/it]\n"
     ]
    },
    {
     "name": "stdout",
     "output_type": "stream",
     "text": [
      "Epoch 6: Train Loss: 0.1001, Train Acc: 1.0000 | Val Loss: 0.0412, Val Acc: 1.0000\n"
     ]
    },
    {
     "name": "stderr",
     "output_type": "stream",
     "text": [
      "Training: 100%|█████████████████████████████████| 47/47 [10:27<00:00, 13.35s/it]\n",
      "Validation: 100%|███████████████████████████████| 12/12 [01:46<00:00,  8.86s/it]\n"
     ]
    },
    {
     "name": "stdout",
     "output_type": "stream",
     "text": [
      "Epoch 7: Train Loss: 0.0890, Train Acc: 1.0000 | Val Loss: 0.0200, Val Acc: 1.0000\n"
     ]
    },
    {
     "name": "stderr",
     "output_type": "stream",
     "text": [
      "Training: 100%|█████████████████████████████████| 47/47 [10:34<00:00, 13.49s/it]\n",
      "Validation: 100%|███████████████████████████████| 12/12 [01:46<00:00,  8.86s/it]\n"
     ]
    },
    {
     "name": "stdout",
     "output_type": "stream",
     "text": [
      "Epoch 8: Train Loss: 0.0601, Train Acc: 0.9973 | Val Loss: 0.0147, Val Acc: 1.0000\n"
     ]
    },
    {
     "name": "stderr",
     "output_type": "stream",
     "text": [
      "Training: 100%|█████████████████████████████████| 47/47 [10:27<00:00, 13.35s/it]\n",
      "Validation: 100%|███████████████████████████████| 12/12 [01:46<00:00,  8.86s/it]\n"
     ]
    },
    {
     "name": "stdout",
     "output_type": "stream",
     "text": [
      "Epoch 9: Train Loss: 0.0495, Train Acc: 0.9973 | Val Loss: 0.0099, Val Acc: 1.0000\n"
     ]
    },
    {
     "name": "stderr",
     "output_type": "stream",
     "text": [
      "Training: 100%|█████████████████████████████████| 47/47 [10:30<00:00, 13.41s/it]\n",
      "Validation: 100%|███████████████████████████████| 12/12 [01:46<00:00,  8.89s/it]\n"
     ]
    },
    {
     "name": "stdout",
     "output_type": "stream",
     "text": [
      "Epoch 10: Train Loss: 0.0752, Train Acc: 0.9866 | Val Loss: 0.0061, Val Acc: 1.0000\n"
     ]
    },
    {
     "name": "stderr",
     "output_type": "stream",
     "text": [
      "Training: 100%|█████████████████████████████████| 47/47 [10:30<00:00, 13.40s/it]\n",
      "Validation: 100%|███████████████████████████████| 12/12 [01:46<00:00,  8.86s/it]\n"
     ]
    },
    {
     "name": "stdout",
     "output_type": "stream",
     "text": [
      "Epoch 11: Train Loss: 0.0363, Train Acc: 1.0000 | Val Loss: 0.0074, Val Acc: 1.0000\n",
      "  ↳ No improvement in val_loss (1/3)\n"
     ]
    },
    {
     "name": "stderr",
     "output_type": "stream",
     "text": [
      "Training: 100%|█████████████████████████████████| 47/47 [10:26<00:00, 13.34s/it]\n",
      "Validation: 100%|███████████████████████████████| 12/12 [01:45<00:00,  8.83s/it]\n"
     ]
    },
    {
     "name": "stdout",
     "output_type": "stream",
     "text": [
      "Epoch 12: Train Loss: 0.0426, Train Acc: 1.0000 | Val Loss: 0.0053, Val Acc: 1.0000\n"
     ]
    },
    {
     "name": "stderr",
     "output_type": "stream",
     "text": [
      "Training: 100%|█████████████████████████████████| 47/47 [10:28<00:00, 13.37s/it]\n",
      "Validation: 100%|███████████████████████████████| 12/12 [01:46<00:00,  8.88s/it]\n"
     ]
    },
    {
     "name": "stdout",
     "output_type": "stream",
     "text": [
      "Epoch 13: Train Loss: 0.0307, Train Acc: 1.0000 | Val Loss: 0.0045, Val Acc: 1.0000\n"
     ]
    },
    {
     "name": "stderr",
     "output_type": "stream",
     "text": [
      "Training: 100%|█████████████████████████████████| 47/47 [10:26<00:00, 13.32s/it]\n",
      "Validation: 100%|███████████████████████████████| 12/12 [01:45<00:00,  8.82s/it]\n"
     ]
    },
    {
     "name": "stdout",
     "output_type": "stream",
     "text": [
      "Epoch 14: Train Loss: 0.0577, Train Acc: 0.9840 | Val Loss: 0.0033, Val Acc: 1.0000\n"
     ]
    },
    {
     "name": "stderr",
     "output_type": "stream",
     "text": [
      "Training: 100%|█████████████████████████████████| 47/47 [10:25<00:00, 13.31s/it]\n",
      "Validation: 100%|███████████████████████████████| 12/12 [01:46<00:00,  8.86s/it]\n"
     ]
    },
    {
     "name": "stdout",
     "output_type": "stream",
     "text": [
      "Epoch 15: Train Loss: 0.0317, Train Acc: 1.0000 | Val Loss: 0.0038, Val Acc: 1.0000\n",
      "  ↳ No improvement in val_loss (1/3)\n"
     ]
    },
    {
     "name": "stderr",
     "output_type": "stream",
     "text": [
      "Training: 100%|█████████████████████████████████| 47/47 [10:26<00:00, 13.33s/it]\n",
      "Validation: 100%|███████████████████████████████| 12/12 [01:46<00:00,  8.85s/it]\n"
     ]
    },
    {
     "name": "stdout",
     "output_type": "stream",
     "text": [
      "Epoch 16: Train Loss: 0.0305, Train Acc: 1.0000 | Val Loss: 0.0034, Val Acc: 1.0000\n",
      "  ↳ No improvement in val_loss (2/3)\n"
     ]
    },
    {
     "name": "stderr",
     "output_type": "stream",
     "text": [
      "Training: 100%|█████████████████████████████████| 47/47 [10:26<00:00, 13.34s/it]\n",
      "Validation: 100%|███████████████████████████████| 12/12 [01:47<00:00,  8.93s/it]\n"
     ]
    },
    {
     "name": "stdout",
     "output_type": "stream",
     "text": [
      "Epoch 17: Train Loss: 0.0567, Train Acc: 0.9759 | Val Loss: 0.0023, Val Acc: 1.0000\n"
     ]
    },
    {
     "name": "stderr",
     "output_type": "stream",
     "text": [
      "Training: 100%|█████████████████████████████████| 47/47 [10:27<00:00, 13.36s/it]\n",
      "Validation: 100%|███████████████████████████████| 12/12 [01:45<00:00,  8.82s/it]\n"
     ]
    },
    {
     "name": "stdout",
     "output_type": "stream",
     "text": [
      "Epoch 18: Train Loss: 0.0333, Train Acc: 0.9947 | Val Loss: 0.0018, Val Acc: 1.0000\n"
     ]
    },
    {
     "name": "stderr",
     "output_type": "stream",
     "text": [
      "Training: 100%|█████████████████████████████████| 47/47 [10:27<00:00, 13.36s/it]\n",
      "Validation: 100%|███████████████████████████████| 12/12 [01:46<00:00,  8.86s/it]\n"
     ]
    },
    {
     "name": "stdout",
     "output_type": "stream",
     "text": [
      "Epoch 19: Train Loss: 0.0244, Train Acc: 0.9973 | Val Loss: 0.0024, Val Acc: 1.0000\n",
      "  ↳ No improvement in val_loss (1/3)\n"
     ]
    },
    {
     "name": "stderr",
     "output_type": "stream",
     "text": [
      "Training: 100%|█████████████████████████████████| 47/47 [10:28<00:00, 13.37s/it]\n",
      "Validation: 100%|███████████████████████████████| 12/12 [01:45<00:00,  8.80s/it]\n"
     ]
    },
    {
     "name": "stdout",
     "output_type": "stream",
     "text": [
      "Epoch 20: Train Loss: 0.0176, Train Acc: 1.0000 | Val Loss: 0.0015, Val Acc: 1.0000\n"
     ]
    },
    {
     "name": "stderr",
     "output_type": "stream",
     "text": [
      "Training: 100%|█████████████████████████████████| 47/47 [10:27<00:00, 13.36s/it]\n",
      "Validation: 100%|███████████████████████████████| 12/12 [01:46<00:00,  8.90s/it]\n"
     ]
    },
    {
     "name": "stdout",
     "output_type": "stream",
     "text": [
      "Epoch 21: Train Loss: 0.0133, Train Acc: 1.0000 | Val Loss: 0.0012, Val Acc: 1.0000\n"
     ]
    },
    {
     "name": "stderr",
     "output_type": "stream",
     "text": [
      "Training: 100%|█████████████████████████████████| 47/47 [10:28<00:00, 13.37s/it]\n",
      "Validation: 100%|███████████████████████████████| 12/12 [01:45<00:00,  8.83s/it]\n"
     ]
    },
    {
     "name": "stdout",
     "output_type": "stream",
     "text": [
      "Epoch 22: Train Loss: 0.0203, Train Acc: 0.9973 | Val Loss: 0.0009, Val Acc: 1.0000\n"
     ]
    },
    {
     "name": "stderr",
     "output_type": "stream",
     "text": [
      "Training: 100%|█████████████████████████████████| 47/47 [10:28<00:00, 13.37s/it]\n",
      "Validation: 100%|███████████████████████████████| 12/12 [01:45<00:00,  8.81s/it]\n"
     ]
    },
    {
     "name": "stdout",
     "output_type": "stream",
     "text": [
      "Epoch 23: Train Loss: 0.0128, Train Acc: 1.0000 | Val Loss: 0.0007, Val Acc: 1.0000\n"
     ]
    },
    {
     "name": "stderr",
     "output_type": "stream",
     "text": [
      "Training: 100%|█████████████████████████████████| 47/47 [10:26<00:00, 13.33s/it]\n",
      "Validation: 100%|███████████████████████████████| 12/12 [01:46<00:00,  8.86s/it]\n"
     ]
    },
    {
     "name": "stdout",
     "output_type": "stream",
     "text": [
      "Epoch 24: Train Loss: 0.0224, Train Acc: 0.9947 | Val Loss: 0.0046, Val Acc: 1.0000\n",
      "  ↳ No improvement in val_loss (1/3)\n"
     ]
    },
    {
     "name": "stderr",
     "output_type": "stream",
     "text": [
      "Training: 100%|█████████████████████████████████| 47/47 [10:24<00:00, 13.29s/it]\n",
      "Validation: 100%|███████████████████████████████| 12/12 [01:45<00:00,  8.78s/it]\n"
     ]
    },
    {
     "name": "stdout",
     "output_type": "stream",
     "text": [
      "Epoch 25: Train Loss: 0.0107, Train Acc: 1.0000 | Val Loss: 0.0009, Val Acc: 1.0000\n",
      "  ↳ No improvement in val_loss (2/3)\n"
     ]
    },
    {
     "name": "stderr",
     "output_type": "stream",
     "text": [
      "Training: 100%|█████████████████████████████████| 47/47 [10:24<00:00, 13.29s/it]\n",
      "Validation: 100%|███████████████████████████████| 12/12 [01:45<00:00,  8.80s/it]\n"
     ]
    },
    {
     "name": "stdout",
     "output_type": "stream",
     "text": [
      "Epoch 26: Train Loss: 0.0744, Train Acc: 0.9679 | Val Loss: 0.0004, Val Acc: 1.0000\n"
     ]
    },
    {
     "name": "stderr",
     "output_type": "stream",
     "text": [
      "Training: 100%|█████████████████████████████████| 47/47 [10:23<00:00, 13.28s/it]\n",
      "Validation: 100%|███████████████████████████████| 12/12 [01:45<00:00,  8.80s/it]\n"
     ]
    },
    {
     "name": "stdout",
     "output_type": "stream",
     "text": [
      "Epoch 27: Train Loss: 0.0377, Train Acc: 0.9840 | Val Loss: 0.0007, Val Acc: 1.0000\n",
      "  ↳ No improvement in val_loss (1/3)\n"
     ]
    },
    {
     "name": "stderr",
     "output_type": "stream",
     "text": [
      "Training: 100%|█████████████████████████████████| 47/47 [18:41<00:00, 23.87s/it]\n",
      "Validation: 100%|███████████████████████████████| 12/12 [15:10<00:00, 75.88s/it]\n"
     ]
    },
    {
     "name": "stdout",
     "output_type": "stream",
     "text": [
      "Epoch 28: Train Loss: 0.0107, Train Acc: 1.0000 | Val Loss: 0.0009, Val Acc: 1.0000\n",
      "  ↳ No improvement in val_loss (2/3)\n"
     ]
    },
    {
     "name": "stderr",
     "output_type": "stream",
     "text": [
      "Training: 100%|██████████████████████████████| 47/47 [1:21:12<00:00, 103.68s/it]\n",
      "Validation: 100%|███████████████████████████████| 12/12 [01:41<00:00,  8.44s/it]\n"
     ]
    },
    {
     "name": "stdout",
     "output_type": "stream",
     "text": [
      "Epoch 29: Train Loss: 0.0094, Train Acc: 1.0000 | Val Loss: 0.0010, Val Acc: 1.0000\n",
      "  ↳ No improvement in val_loss (3/3)\n",
      "Early stopping triggered.\n",
      "\n",
      "Fold 2\n"
     ]
    },
    {
     "name": "stderr",
     "output_type": "stream",
     "text": [
      "Training: 100%|███████████████████████████████| 47/47 [1:05:40<00:00, 83.84s/it]\n",
      "Validation: 100%|███████████████████████████████| 12/12 [01:40<00:00,  8.41s/it]\n"
     ]
    },
    {
     "name": "stdout",
     "output_type": "stream",
     "text": [
      "Epoch 1: Train Loss: 0.6687, Train Acc: 0.6257 | Val Loss: 0.5957, Val Acc: 0.7447\n"
     ]
    },
    {
     "name": "stderr",
     "output_type": "stream",
     "text": [
      "Training: 100%|█████████████████████████████████| 47/47 [35:56<00:00, 45.88s/it]\n",
      "Validation: 100%|███████████████████████████████| 12/12 [01:41<00:00,  8.48s/it]\n"
     ]
    },
    {
     "name": "stdout",
     "output_type": "stream",
     "text": [
      "Epoch 2: Train Loss: 0.4829, Train Acc: 0.8824 | Val Loss: 0.3280, Val Acc: 1.0000\n"
     ]
    },
    {
     "name": "stderr",
     "output_type": "stream",
     "text": [
      "Training: 100%|█████████████████████████████████| 47/47 [53:12<00:00, 67.92s/it]\n",
      "Validation: 100%|███████████████████████████████| 12/12 [07:58<00:00, 39.89s/it]\n"
     ]
    },
    {
     "name": "stdout",
     "output_type": "stream",
     "text": [
      "Epoch 3: Train Loss: 0.3376, Train Acc: 0.9599 | Val Loss: 0.1559, Val Acc: 1.0000\n"
     ]
    },
    {
     "name": "stderr",
     "output_type": "stream",
     "text": [
      "Training: 100%|█████████████████████████████████| 47/47 [52:31<00:00, 67.05s/it]\n",
      "Validation: 100%|███████████████████████████████| 12/12 [01:42<00:00,  8.54s/it]\n"
     ]
    },
    {
     "name": "stdout",
     "output_type": "stream",
     "text": [
      "Epoch 4: Train Loss: 0.2436, Train Acc: 0.9679 | Val Loss: 0.1034, Val Acc: 1.0000\n"
     ]
    },
    {
     "name": "stderr",
     "output_type": "stream",
     "text": [
      "Training: 100%|█████████████████████████████████| 47/47 [57:32<00:00, 73.45s/it]\n",
      "Validation: 100%|███████████████████████████████| 12/12 [13:59<00:00, 69.97s/it]\n"
     ]
    },
    {
     "name": "stdout",
     "output_type": "stream",
     "text": [
      "Epoch 5: Train Loss: 0.1287, Train Acc: 0.9973 | Val Loss: 0.0576, Val Acc: 1.0000\n"
     ]
    },
    {
     "name": "stderr",
     "output_type": "stream",
     "text": [
      "Training: 100%|███████████████████████████████| 47/47 [1:13:14<00:00, 93.50s/it]\n",
      "Validation: 100%|███████████████████████████████| 12/12 [19:04<00:00, 95.39s/it]\n"
     ]
    },
    {
     "name": "stdout",
     "output_type": "stream",
     "text": [
      "Epoch 6: Train Loss: 0.1174, Train Acc: 0.9947 | Val Loss: 0.0363, Val Acc: 1.0000\n"
     ]
    },
    {
     "name": "stderr",
     "output_type": "stream",
     "text": [
      "Training: 100%|█████████████████████████████████| 47/47 [12:27<00:00, 15.91s/it]\n",
      "Validation: 100%|███████████████████████████████| 12/12 [01:54<00:00,  9.53s/it]\n"
     ]
    },
    {
     "name": "stdout",
     "output_type": "stream",
     "text": [
      "Epoch 7: Train Loss: 0.0917, Train Acc: 0.9973 | Val Loss: 0.0244, Val Acc: 1.0000\n"
     ]
    },
    {
     "name": "stderr",
     "output_type": "stream",
     "text": [
      "Training: 100%|█████████████████████████████████| 47/47 [11:17<00:00, 14.42s/it]\n",
      "Validation: 100%|███████████████████████████████| 12/12 [01:50<00:00,  9.17s/it]\n"
     ]
    },
    {
     "name": "stdout",
     "output_type": "stream",
     "text": [
      "Epoch 8: Train Loss: 0.0610, Train Acc: 1.0000 | Val Loss: 0.0167, Val Acc: 1.0000\n"
     ]
    },
    {
     "name": "stderr",
     "output_type": "stream",
     "text": [
      "Training: 100%|█████████████████████████████████| 47/47 [11:12<00:00, 14.31s/it]\n",
      "Validation: 100%|███████████████████████████████| 12/12 [01:50<00:00,  9.24s/it]\n"
     ]
    },
    {
     "name": "stdout",
     "output_type": "stream",
     "text": [
      "Epoch 9: Train Loss: 0.0670, Train Acc: 0.9840 | Val Loss: 0.0287, Val Acc: 1.0000\n",
      "  ↳ No improvement in val_loss (1/3)\n"
     ]
    },
    {
     "name": "stderr",
     "output_type": "stream",
     "text": [
      "Training: 100%|█████████████████████████████████| 47/47 [11:22<00:00, 14.53s/it]\n",
      "Validation: 100%|███████████████████████████████| 12/12 [01:49<00:00,  9.12s/it]\n"
     ]
    },
    {
     "name": "stdout",
     "output_type": "stream",
     "text": [
      "Epoch 10: Train Loss: 0.0472, Train Acc: 1.0000 | Val Loss: 0.0107, Val Acc: 1.0000\n"
     ]
    },
    {
     "name": "stderr",
     "output_type": "stream",
     "text": [
      "Training: 100%|█████████████████████████████████| 47/47 [10:35<00:00, 13.52s/it]\n",
      "Validation: 100%|███████████████████████████████| 12/12 [01:44<00:00,  8.69s/it]\n"
     ]
    },
    {
     "name": "stdout",
     "output_type": "stream",
     "text": [
      "Epoch 11: Train Loss: 0.0400, Train Acc: 0.9973 | Val Loss: 0.0098, Val Acc: 1.0000\n"
     ]
    },
    {
     "name": "stderr",
     "output_type": "stream",
     "text": [
      "Training: 100%|█████████████████████████████████| 47/47 [10:21<00:00, 13.21s/it]\n",
      "Validation: 100%|███████████████████████████████| 12/12 [01:45<00:00,  8.79s/it]\n"
     ]
    },
    {
     "name": "stdout",
     "output_type": "stream",
     "text": [
      "Epoch 12: Train Loss: 0.0234, Train Acc: 1.0000 | Val Loss: 0.0057, Val Acc: 1.0000\n"
     ]
    },
    {
     "name": "stderr",
     "output_type": "stream",
     "text": [
      "Training: 100%|█████████████████████████████████| 47/47 [10:21<00:00, 13.22s/it]\n",
      "Validation: 100%|███████████████████████████████| 12/12 [01:45<00:00,  8.77s/it]\n"
     ]
    },
    {
     "name": "stdout",
     "output_type": "stream",
     "text": [
      "Epoch 13: Train Loss: 0.0355, Train Acc: 1.0000 | Val Loss: 0.0058, Val Acc: 1.0000\n",
      "  ↳ No improvement in val_loss (1/3)\n"
     ]
    },
    {
     "name": "stderr",
     "output_type": "stream",
     "text": [
      "Training: 100%|█████████████████████████████████| 47/47 [10:37<00:00, 13.57s/it]\n",
      "Validation: 100%|███████████████████████████████| 12/12 [01:45<00:00,  8.81s/it]\n"
     ]
    },
    {
     "name": "stdout",
     "output_type": "stream",
     "text": [
      "Epoch 14: Train Loss: 0.0260, Train Acc: 1.0000 | Val Loss: 0.0054, Val Acc: 1.0000\n"
     ]
    },
    {
     "name": "stderr",
     "output_type": "stream",
     "text": [
      "Training: 100%|█████████████████████████████████| 47/47 [10:26<00:00, 13.33s/it]\n",
      "Validation: 100%|███████████████████████████████| 12/12 [01:45<00:00,  8.80s/it]\n"
     ]
    },
    {
     "name": "stdout",
     "output_type": "stream",
     "text": [
      "Epoch 15: Train Loss: 0.0193, Train Acc: 1.0000 | Val Loss: 0.0036, Val Acc: 1.0000\n"
     ]
    },
    {
     "name": "stderr",
     "output_type": "stream",
     "text": [
      "Training: 100%|█████████████████████████████████| 47/47 [42:45<00:00, 54.59s/it]\n",
      "Validation: 100%|███████████████████████████████| 12/12 [10:39<00:00, 53.25s/it]\n"
     ]
    },
    {
     "name": "stdout",
     "output_type": "stream",
     "text": [
      "Epoch 16: Train Loss: 0.0224, Train Acc: 1.0000 | Val Loss: 0.0050, Val Acc: 1.0000\n",
      "  ↳ No improvement in val_loss (1/3)\n"
     ]
    },
    {
     "name": "stderr",
     "output_type": "stream",
     "text": [
      "Training: 100%|█████████████████████████████████| 47/47 [10:48<00:00, 13.81s/it]\n",
      "Validation: 100%|███████████████████████████████| 12/12 [01:45<00:00,  8.82s/it]\n"
     ]
    },
    {
     "name": "stdout",
     "output_type": "stream",
     "text": [
      "Epoch 17: Train Loss: 0.0248, Train Acc: 1.0000 | Val Loss: 0.0031, Val Acc: 1.0000\n"
     ]
    },
    {
     "name": "stderr",
     "output_type": "stream",
     "text": [
      "Training: 100%|█████████████████████████████████| 47/47 [10:27<00:00, 13.36s/it]\n",
      "Validation: 100%|███████████████████████████████| 12/12 [01:45<00:00,  8.75s/it]\n"
     ]
    },
    {
     "name": "stdout",
     "output_type": "stream",
     "text": [
      "Epoch 18: Train Loss: 0.0115, Train Acc: 1.0000 | Val Loss: 0.0021, Val Acc: 1.0000\n"
     ]
    },
    {
     "name": "stderr",
     "output_type": "stream",
     "text": [
      "Training: 100%|█████████████████████████████████| 47/47 [10:46<00:00, 13.75s/it]\n",
      "Validation: 100%|███████████████████████████████| 12/12 [01:51<00:00,  9.32s/it]\n"
     ]
    },
    {
     "name": "stdout",
     "output_type": "stream",
     "text": [
      "Epoch 19: Train Loss: 0.0121, Train Acc: 1.0000 | Val Loss: 0.0026, Val Acc: 1.0000\n",
      "  ↳ No improvement in val_loss (1/3)\n"
     ]
    },
    {
     "name": "stderr",
     "output_type": "stream",
     "text": [
      "Training: 100%|█████████████████████████████████| 47/47 [10:43<00:00, 13.69s/it]\n",
      "Validation: 100%|███████████████████████████████| 12/12 [01:53<00:00,  9.42s/it]\n"
     ]
    },
    {
     "name": "stdout",
     "output_type": "stream",
     "text": [
      "Epoch 20: Train Loss: 0.0146, Train Acc: 1.0000 | Val Loss: 0.0026, Val Acc: 1.0000\n",
      "  ↳ No improvement in val_loss (2/3)\n"
     ]
    },
    {
     "name": "stderr",
     "output_type": "stream",
     "text": [
      "Training: 100%|█████████████████████████████████| 47/47 [11:11<00:00, 14.29s/it]\n",
      "Validation: 100%|███████████████████████████████| 12/12 [01:50<00:00,  9.22s/it]\n"
     ]
    },
    {
     "name": "stdout",
     "output_type": "stream",
     "text": [
      "Epoch 21: Train Loss: 0.0497, Train Acc: 0.9840 | Val Loss: 0.0016, Val Acc: 1.0000\n"
     ]
    },
    {
     "name": "stderr",
     "output_type": "stream",
     "text": [
      "Training: 100%|█████████████████████████████████| 47/47 [11:02<00:00, 14.10s/it]\n",
      "Validation: 100%|███████████████████████████████| 12/12 [01:51<00:00,  9.27s/it]\n"
     ]
    },
    {
     "name": "stdout",
     "output_type": "stream",
     "text": [
      "Epoch 22: Train Loss: 0.0128, Train Acc: 1.0000 | Val Loss: 0.0013, Val Acc: 1.0000\n"
     ]
    },
    {
     "name": "stderr",
     "output_type": "stream",
     "text": [
      "Training: 100%|█████████████████████████████████| 47/47 [10:59<00:00, 14.03s/it]\n",
      "Validation: 100%|███████████████████████████████| 12/12 [01:49<00:00,  9.11s/it]\n"
     ]
    },
    {
     "name": "stdout",
     "output_type": "stream",
     "text": [
      "Epoch 23: Train Loss: 0.0147, Train Acc: 1.0000 | Val Loss: 0.0011, Val Acc: 1.0000\n"
     ]
    },
    {
     "name": "stderr",
     "output_type": "stream",
     "text": [
      "Training: 100%|█████████████████████████████████| 47/47 [10:45<00:00, 13.73s/it]\n",
      "Validation: 100%|███████████████████████████████| 12/12 [01:48<00:00,  9.03s/it]\n"
     ]
    },
    {
     "name": "stdout",
     "output_type": "stream",
     "text": [
      "Epoch 24: Train Loss: 0.0449, Train Acc: 0.9840 | Val Loss: 0.0042, Val Acc: 1.0000\n",
      "  ↳ No improvement in val_loss (1/3)\n"
     ]
    },
    {
     "name": "stderr",
     "output_type": "stream",
     "text": [
      "Training: 100%|█████████████████████████████████| 47/47 [20:32<00:00, 26.23s/it]\n",
      "Validation: 100%|███████████████████████████████| 12/12 [01:45<00:00,  8.77s/it]\n"
     ]
    },
    {
     "name": "stdout",
     "output_type": "stream",
     "text": [
      "Epoch 25: Train Loss: 0.0212, Train Acc: 1.0000 | Val Loss: 0.0020, Val Acc: 1.0000\n",
      "  ↳ No improvement in val_loss (2/3)\n"
     ]
    },
    {
     "name": "stderr",
     "output_type": "stream",
     "text": [
      "Training: 100%|█████████████████████████████████| 47/47 [10:34<00:00, 13.50s/it]\n",
      "Validation: 100%|███████████████████████████████| 12/12 [01:45<00:00,  8.79s/it]\n"
     ]
    },
    {
     "name": "stdout",
     "output_type": "stream",
     "text": [
      "Epoch 26: Train Loss: 0.0418, Train Acc: 0.9893 | Val Loss: 0.0007, Val Acc: 1.0000\n"
     ]
    },
    {
     "name": "stderr",
     "output_type": "stream",
     "text": [
      "Training: 100%|█████████████████████████████████| 47/47 [12:49<00:00, 16.37s/it]\n",
      "Validation: 100%|███████████████████████████████| 12/12 [01:46<00:00,  8.84s/it]\n"
     ]
    },
    {
     "name": "stdout",
     "output_type": "stream",
     "text": [
      "Epoch 27: Train Loss: 0.0783, Train Acc: 0.9733 | Val Loss: 0.0058, Val Acc: 1.0000\n",
      "  ↳ No improvement in val_loss (1/3)\n"
     ]
    },
    {
     "name": "stderr",
     "output_type": "stream",
     "text": [
      "Training: 100%|█████████████████████████████████| 47/47 [10:27<00:00, 13.35s/it]\n",
      "Validation: 100%|███████████████████████████████| 12/12 [01:45<00:00,  8.82s/it]\n"
     ]
    },
    {
     "name": "stdout",
     "output_type": "stream",
     "text": [
      "Epoch 28: Train Loss: 0.0100, Train Acc: 1.0000 | Val Loss: 0.0008, Val Acc: 1.0000\n",
      "  ↳ No improvement in val_loss (2/3)\n"
     ]
    },
    {
     "name": "stderr",
     "output_type": "stream",
     "text": [
      "Training: 100%|█████████████████████████████████| 47/47 [10:28<00:00, 13.37s/it]\n",
      "Validation: 100%|███████████████████████████████| 12/12 [01:45<00:00,  8.79s/it]\n"
     ]
    },
    {
     "name": "stdout",
     "output_type": "stream",
     "text": [
      "Epoch 29: Train Loss: 0.0113, Train Acc: 1.0000 | Val Loss: 0.0007, Val Acc: 1.0000\n",
      "  ↳ No improvement in val_loss (3/3)\n",
      "Early stopping triggered.\n",
      "\n",
      "Fold 3\n"
     ]
    },
    {
     "name": "stderr",
     "output_type": "stream",
     "text": [
      "Training: 100%|█████████████████████████████████| 47/47 [10:30<00:00, 13.42s/it]\n",
      "Validation: 100%|███████████████████████████████| 12/12 [01:45<00:00,  8.80s/it]\n"
     ]
    },
    {
     "name": "stdout",
     "output_type": "stream",
     "text": [
      "Epoch 1: Train Loss: 0.6473, Train Acc: 0.6765 | Val Loss: 0.6276, Val Acc: 0.7766\n"
     ]
    },
    {
     "name": "stderr",
     "output_type": "stream",
     "text": [
      "Training: 100%|█████████████████████████████████| 47/47 [10:28<00:00, 13.38s/it]\n",
      "Validation: 100%|███████████████████████████████| 12/12 [01:45<00:00,  8.80s/it]\n"
     ]
    },
    {
     "name": "stdout",
     "output_type": "stream",
     "text": [
      "Epoch 2: Train Loss: 0.5183, Train Acc: 0.7807 | Val Loss: 0.4139, Val Acc: 0.7766\n"
     ]
    },
    {
     "name": "stderr",
     "output_type": "stream",
     "text": [
      "Training: 100%|█████████████████████████████████| 47/47 [10:29<00:00, 13.38s/it]\n",
      "Validation: 100%|███████████████████████████████| 12/12 [01:45<00:00,  8.82s/it]\n"
     ]
    },
    {
     "name": "stdout",
     "output_type": "stream",
     "text": [
      "Epoch 3: Train Loss: 0.3925, Train Acc: 0.8396 | Val Loss: 0.3193, Val Acc: 1.0000\n"
     ]
    },
    {
     "name": "stderr",
     "output_type": "stream",
     "text": [
      "Training: 100%|█████████████████████████████████| 47/47 [10:26<00:00, 13.33s/it]\n",
      "Validation: 100%|███████████████████████████████| 12/12 [01:47<00:00,  8.99s/it]\n"
     ]
    },
    {
     "name": "stdout",
     "output_type": "stream",
     "text": [
      "Epoch 4: Train Loss: 0.2640, Train Acc: 0.9572 | Val Loss: 0.2003, Val Acc: 1.0000\n"
     ]
    },
    {
     "name": "stderr",
     "output_type": "stream",
     "text": [
      "Training: 100%|█████████████████████████████████| 47/47 [10:50<00:00, 13.85s/it]\n",
      "Validation: 100%|███████████████████████████████| 12/12 [01:46<00:00,  8.87s/it]\n"
     ]
    },
    {
     "name": "stdout",
     "output_type": "stream",
     "text": [
      "Epoch 5: Train Loss: 0.1666, Train Acc: 0.9840 | Val Loss: 0.0829, Val Acc: 1.0000\n"
     ]
    },
    {
     "name": "stderr",
     "output_type": "stream",
     "text": [
      "Training: 100%|█████████████████████████████████| 47/47 [10:38<00:00, 13.59s/it]\n",
      "Validation: 100%|███████████████████████████████| 12/12 [01:46<00:00,  8.88s/it]\n"
     ]
    },
    {
     "name": "stdout",
     "output_type": "stream",
     "text": [
      "Epoch 6: Train Loss: 0.1149, Train Acc: 0.9893 | Val Loss: 0.0655, Val Acc: 1.0000\n"
     ]
    },
    {
     "name": "stderr",
     "output_type": "stream",
     "text": [
      "Training: 100%|█████████████████████████████████| 47/47 [10:35<00:00, 13.52s/it]\n",
      "Validation: 100%|███████████████████████████████| 12/12 [01:45<00:00,  8.82s/it]\n"
     ]
    },
    {
     "name": "stdout",
     "output_type": "stream",
     "text": [
      "Epoch 7: Train Loss: 0.0722, Train Acc: 0.9973 | Val Loss: 0.0260, Val Acc: 1.0000\n"
     ]
    },
    {
     "name": "stderr",
     "output_type": "stream",
     "text": [
      "Training: 100%|█████████████████████████████████| 47/47 [10:26<00:00, 13.33s/it]\n",
      "Validation: 100%|███████████████████████████████| 12/12 [01:43<00:00,  8.63s/it]\n"
     ]
    },
    {
     "name": "stdout",
     "output_type": "stream",
     "text": [
      "Epoch 8: Train Loss: 0.0530, Train Acc: 1.0000 | Val Loss: 0.0252, Val Acc: 1.0000\n"
     ]
    },
    {
     "name": "stderr",
     "output_type": "stream",
     "text": [
      "Training: 100%|█████████████████████████████████| 47/47 [10:17<00:00, 13.15s/it]\n",
      "Validation: 100%|███████████████████████████████| 12/12 [01:44<00:00,  8.73s/it]\n"
     ]
    },
    {
     "name": "stdout",
     "output_type": "stream",
     "text": [
      "Epoch 9: Train Loss: 0.0378, Train Acc: 1.0000 | Val Loss: 0.0155, Val Acc: 1.0000\n"
     ]
    },
    {
     "name": "stderr",
     "output_type": "stream",
     "text": [
      "Training: 100%|█████████████████████████████████| 47/47 [10:19<00:00, 13.19s/it]\n",
      "Validation: 100%|███████████████████████████████| 12/12 [01:42<00:00,  8.56s/it]\n"
     ]
    },
    {
     "name": "stdout",
     "output_type": "stream",
     "text": [
      "Epoch 10: Train Loss: 0.0430, Train Acc: 1.0000 | Val Loss: 0.0203, Val Acc: 1.0000\n",
      "  ↳ No improvement in val_loss (1/3)\n"
     ]
    },
    {
     "name": "stderr",
     "output_type": "stream",
     "text": [
      "Training: 100%|█████████████████████████████████| 47/47 [10:24<00:00, 13.29s/it]\n",
      "Validation: 100%|███████████████████████████████| 12/12 [01:45<00:00,  8.78s/it]\n"
     ]
    },
    {
     "name": "stdout",
     "output_type": "stream",
     "text": [
      "Epoch 11: Train Loss: 0.0392, Train Acc: 0.9973 | Val Loss: 0.1881, Val Acc: 0.9574\n",
      "  ↳ No improvement in val_loss (2/3)\n"
     ]
    },
    {
     "name": "stderr",
     "output_type": "stream",
     "text": [
      "Training: 100%|█████████████████████████████████| 47/47 [29:00<00:00, 37.03s/it]\n",
      "Validation: 100%|███████████████████████████████| 12/12 [01:45<00:00,  8.79s/it]\n"
     ]
    },
    {
     "name": "stdout",
     "output_type": "stream",
     "text": [
      "Epoch 12: Train Loss: 0.0221, Train Acc: 1.0000 | Val Loss: 0.0065, Val Acc: 1.0000\n"
     ]
    },
    {
     "name": "stderr",
     "output_type": "stream",
     "text": [
      "Training: 100%|█████████████████████████████████| 47/47 [10:24<00:00, 13.28s/it]\n",
      "Validation: 100%|███████████████████████████████| 12/12 [01:47<00:00,  8.93s/it]\n"
     ]
    },
    {
     "name": "stdout",
     "output_type": "stream",
     "text": [
      "Epoch 13: Train Loss: 0.0174, Train Acc: 1.0000 | Val Loss: 0.0072, Val Acc: 1.0000\n",
      "  ↳ No improvement in val_loss (1/3)\n"
     ]
    },
    {
     "name": "stderr",
     "output_type": "stream",
     "text": [
      "Training: 100%|█████████████████████████████████| 47/47 [10:34<00:00, 13.50s/it]\n",
      "Validation: 100%|███████████████████████████████| 12/12 [01:44<00:00,  8.73s/it]\n"
     ]
    },
    {
     "name": "stdout",
     "output_type": "stream",
     "text": [
      "Epoch 14: Train Loss: 0.0349, Train Acc: 0.9973 | Val Loss: 0.0023, Val Acc: 1.0000\n"
     ]
    },
    {
     "name": "stderr",
     "output_type": "stream",
     "text": [
      "Training: 100%|█████████████████████████████████| 47/47 [10:25<00:00, 13.30s/it]\n",
      "Validation: 100%|███████████████████████████████| 12/12 [01:45<00:00,  8.81s/it]\n"
     ]
    },
    {
     "name": "stdout",
     "output_type": "stream",
     "text": [
      "Epoch 15: Train Loss: 0.0161, Train Acc: 1.0000 | Val Loss: 0.0069, Val Acc: 1.0000\n",
      "  ↳ No improvement in val_loss (1/3)\n"
     ]
    },
    {
     "name": "stderr",
     "output_type": "stream",
     "text": [
      "Training: 100%|█████████████████████████████████| 47/47 [10:24<00:00, 13.29s/it]\n",
      "Validation: 100%|███████████████████████████████| 12/12 [01:44<00:00,  8.71s/it]\n"
     ]
    },
    {
     "name": "stdout",
     "output_type": "stream",
     "text": [
      "Epoch 16: Train Loss: 0.0122, Train Acc: 1.0000 | Val Loss: 0.0028, Val Acc: 1.0000\n",
      "  ↳ No improvement in val_loss (2/3)\n"
     ]
    },
    {
     "name": "stderr",
     "output_type": "stream",
     "text": [
      "Training: 100%|█████████████████████████████████| 47/47 [10:31<00:00, 13.43s/it]\n",
      "Validation: 100%|███████████████████████████████| 12/12 [01:45<00:00,  8.78s/it]\n"
     ]
    },
    {
     "name": "stdout",
     "output_type": "stream",
     "text": [
      "Epoch 17: Train Loss: 0.0133, Train Acc: 1.0000 | Val Loss: 0.0031, Val Acc: 1.0000\n",
      "  ↳ No improvement in val_loss (3/3)\n",
      "Early stopping triggered.\n",
      "\n",
      "Fold 4\n"
     ]
    },
    {
     "name": "stderr",
     "output_type": "stream",
     "text": [
      "Training: 100%|█████████████████████████████████| 47/47 [10:26<00:00, 13.34s/it]\n",
      "Validation: 100%|███████████████████████████████| 12/12 [01:43<00:00,  8.65s/it]\n"
     ]
    },
    {
     "name": "stdout",
     "output_type": "stream",
     "text": [
      "Epoch 1: Train Loss: 0.6266, Train Acc: 0.7093 | Val Loss: 0.5617, Val Acc: 0.7204\n"
     ]
    },
    {
     "name": "stderr",
     "output_type": "stream",
     "text": [
      "Training: 100%|█████████████████████████████████| 47/47 [10:24<00:00, 13.28s/it]\n",
      "Validation: 100%|███████████████████████████████| 12/12 [01:44<00:00,  8.72s/it]\n"
     ]
    },
    {
     "name": "stdout",
     "output_type": "stream",
     "text": [
      "Epoch 2: Train Loss: 0.4456, Train Acc: 0.8853 | Val Loss: 0.2622, Val Acc: 1.0000\n"
     ]
    },
    {
     "name": "stderr",
     "output_type": "stream",
     "text": [
      "Training: 100%|█████████████████████████████████| 47/47 [10:27<00:00, 13.35s/it]\n",
      "Validation: 100%|███████████████████████████████| 12/12 [01:43<00:00,  8.63s/it]\n"
     ]
    },
    {
     "name": "stdout",
     "output_type": "stream",
     "text": [
      "Epoch 3: Train Loss: 0.3117, Train Acc: 0.9387 | Val Loss: 0.1565, Val Acc: 1.0000\n"
     ]
    },
    {
     "name": "stderr",
     "output_type": "stream",
     "text": [
      "Training: 100%|█████████████████████████████████| 47/47 [10:25<00:00, 13.30s/it]\n",
      "Validation: 100%|███████████████████████████████| 12/12 [01:43<00:00,  8.66s/it]\n"
     ]
    },
    {
     "name": "stdout",
     "output_type": "stream",
     "text": [
      "Epoch 4: Train Loss: 0.2137, Train Acc: 0.9707 | Val Loss: 0.0830, Val Acc: 1.0000\n"
     ]
    },
    {
     "name": "stderr",
     "output_type": "stream",
     "text": [
      "Training: 100%|█████████████████████████████████| 47/47 [10:25<00:00, 13.32s/it]\n",
      "Validation: 100%|███████████████████████████████| 12/12 [01:44<00:00,  8.72s/it]\n"
     ]
    },
    {
     "name": "stdout",
     "output_type": "stream",
     "text": [
      "Epoch 5: Train Loss: 0.1622, Train Acc: 0.9733 | Val Loss: 0.0605, Val Acc: 1.0000\n"
     ]
    },
    {
     "name": "stderr",
     "output_type": "stream",
     "text": [
      "Training: 100%|█████████████████████████████████| 47/47 [10:24<00:00, 13.29s/it]\n",
      "Validation: 100%|███████████████████████████████| 12/12 [01:45<00:00,  8.77s/it]\n"
     ]
    },
    {
     "name": "stdout",
     "output_type": "stream",
     "text": [
      "Epoch 6: Train Loss: 0.1015, Train Acc: 0.9947 | Val Loss: 0.0338, Val Acc: 1.0000\n"
     ]
    },
    {
     "name": "stderr",
     "output_type": "stream",
     "text": [
      "Training: 100%|█████████████████████████████████| 47/47 [10:24<00:00, 13.29s/it]\n",
      "Validation: 100%|███████████████████████████████| 12/12 [01:44<00:00,  8.74s/it]\n"
     ]
    },
    {
     "name": "stdout",
     "output_type": "stream",
     "text": [
      "Epoch 7: Train Loss: 0.0831, Train Acc: 1.0000 | Val Loss: 0.0390, Val Acc: 1.0000\n",
      "  ↳ No improvement in val_loss (1/3)\n"
     ]
    },
    {
     "name": "stderr",
     "output_type": "stream",
     "text": [
      "Training: 100%|█████████████████████████████████| 47/47 [10:31<00:00, 13.43s/it]\n",
      "Validation: 100%|███████████████████████████████| 12/12 [01:43<00:00,  8.67s/it]\n"
     ]
    },
    {
     "name": "stdout",
     "output_type": "stream",
     "text": [
      "Epoch 8: Train Loss: 0.1105, Train Acc: 0.9840 | Val Loss: 0.0154, Val Acc: 1.0000\n"
     ]
    },
    {
     "name": "stderr",
     "output_type": "stream",
     "text": [
      "Training: 100%|█████████████████████████████████| 47/47 [10:15<00:00, 13.10s/it]\n",
      "Validation: 100%|███████████████████████████████| 12/12 [01:43<00:00,  8.61s/it]\n"
     ]
    },
    {
     "name": "stdout",
     "output_type": "stream",
     "text": [
      "Epoch 9: Train Loss: 0.0836, Train Acc: 0.9787 | Val Loss: 0.0124, Val Acc: 1.0000\n"
     ]
    },
    {
     "name": "stderr",
     "output_type": "stream",
     "text": [
      "Training: 100%|█████████████████████████████████| 47/47 [10:16<00:00, 13.12s/it]\n",
      "Validation: 100%|███████████████████████████████| 12/12 [01:46<00:00,  8.87s/it]\n"
     ]
    },
    {
     "name": "stdout",
     "output_type": "stream",
     "text": [
      "Epoch 10: Train Loss: 0.0530, Train Acc: 0.9973 | Val Loss: 0.0068, Val Acc: 1.0000\n"
     ]
    },
    {
     "name": "stderr",
     "output_type": "stream",
     "text": [
      "Training: 100%|█████████████████████████████████| 47/47 [10:45<00:00, 13.74s/it]\n",
      "Validation: 100%|███████████████████████████████| 12/12 [01:49<00:00,  9.15s/it]\n"
     ]
    },
    {
     "name": "stdout",
     "output_type": "stream",
     "text": [
      "Epoch 11: Train Loss: 0.0345, Train Acc: 0.9973 | Val Loss: 0.0057, Val Acc: 1.0000\n"
     ]
    },
    {
     "name": "stderr",
     "output_type": "stream",
     "text": [
      "Training: 100%|█████████████████████████████████| 47/47 [10:53<00:00, 13.90s/it]\n",
      "Validation: 100%|███████████████████████████████| 12/12 [01:51<00:00,  9.31s/it]\n"
     ]
    },
    {
     "name": "stdout",
     "output_type": "stream",
     "text": [
      "Epoch 12: Train Loss: 0.0334, Train Acc: 1.0000 | Val Loss: 0.0069, Val Acc: 1.0000\n",
      "  ↳ No improvement in val_loss (1/3)\n"
     ]
    },
    {
     "name": "stderr",
     "output_type": "stream",
     "text": [
      "Training: 100%|█████████████████████████████████| 47/47 [11:03<00:00, 14.11s/it]\n",
      "Validation: 100%|███████████████████████████████| 12/12 [01:51<00:00,  9.32s/it]\n"
     ]
    },
    {
     "name": "stdout",
     "output_type": "stream",
     "text": [
      "Epoch 13: Train Loss: 0.0536, Train Acc: 0.9920 | Val Loss: 0.0039, Val Acc: 1.0000\n"
     ]
    },
    {
     "name": "stderr",
     "output_type": "stream",
     "text": [
      "Training: 100%|█████████████████████████████████| 47/47 [10:42<00:00, 13.66s/it]\n",
      "Validation: 100%|███████████████████████████████| 12/12 [01:49<00:00,  9.12s/it]\n"
     ]
    },
    {
     "name": "stdout",
     "output_type": "stream",
     "text": [
      "Epoch 14: Train Loss: 0.0260, Train Acc: 1.0000 | Val Loss: 0.0022, Val Acc: 1.0000\n"
     ]
    },
    {
     "name": "stderr",
     "output_type": "stream",
     "text": [
      "Training: 100%|█████████████████████████████████| 47/47 [10:16<00:00, 13.12s/it]\n",
      "Validation: 100%|███████████████████████████████| 12/12 [01:44<00:00,  8.67s/it]\n"
     ]
    },
    {
     "name": "stdout",
     "output_type": "stream",
     "text": [
      "Epoch 15: Train Loss: 0.0411, Train Acc: 0.9973 | Val Loss: 0.0026, Val Acc: 1.0000\n",
      "  ↳ No improvement in val_loss (1/3)\n"
     ]
    },
    {
     "name": "stderr",
     "output_type": "stream",
     "text": [
      "Training: 100%|█████████████████████████████████| 47/47 [10:18<00:00, 13.16s/it]\n",
      "Validation: 100%|███████████████████████████████| 12/12 [01:49<00:00,  9.13s/it]\n"
     ]
    },
    {
     "name": "stdout",
     "output_type": "stream",
     "text": [
      "Epoch 16: Train Loss: 0.0389, Train Acc: 0.9947 | Val Loss: 0.0026, Val Acc: 1.0000\n",
      "  ↳ No improvement in val_loss (2/3)\n"
     ]
    },
    {
     "name": "stderr",
     "output_type": "stream",
     "text": [
      "Training: 100%|█████████████████████████████████| 47/47 [10:24<00:00, 13.29s/it]\n",
      "Validation: 100%|███████████████████████████████| 12/12 [01:44<00:00,  8.74s/it]\n"
     ]
    },
    {
     "name": "stdout",
     "output_type": "stream",
     "text": [
      "Epoch 17: Train Loss: 0.0333, Train Acc: 0.9973 | Val Loss: 0.0014, Val Acc: 1.0000\n"
     ]
    },
    {
     "name": "stderr",
     "output_type": "stream",
     "text": [
      "Training: 100%|█████████████████████████████████| 47/47 [10:23<00:00, 13.28s/it]\n",
      "Validation: 100%|███████████████████████████████| 12/12 [01:43<00:00,  8.63s/it]\n"
     ]
    },
    {
     "name": "stdout",
     "output_type": "stream",
     "text": [
      "Epoch 18: Train Loss: 0.0139, Train Acc: 1.0000 | Val Loss: 0.0042, Val Acc: 1.0000\n",
      "  ↳ No improvement in val_loss (1/3)\n"
     ]
    },
    {
     "name": "stderr",
     "output_type": "stream",
     "text": [
      "Training: 100%|█████████████████████████████████| 47/47 [20:43<00:00, 26.47s/it]\n",
      "Validation: 100%|███████████████████████████████| 12/12 [01:43<00:00,  8.63s/it]\n"
     ]
    },
    {
     "name": "stdout",
     "output_type": "stream",
     "text": [
      "Epoch 19: Train Loss: 0.0286, Train Acc: 0.9973 | Val Loss: 0.0011, Val Acc: 1.0000\n"
     ]
    },
    {
     "name": "stderr",
     "output_type": "stream",
     "text": [
      "Training: 100%|█████████████████████████████████| 47/47 [10:19<00:00, 13.18s/it]\n",
      "Validation: 100%|███████████████████████████████| 12/12 [01:44<00:00,  8.71s/it]\n"
     ]
    },
    {
     "name": "stdout",
     "output_type": "stream",
     "text": [
      "Epoch 20: Train Loss: 0.0101, Train Acc: 1.0000 | Val Loss: 0.0014, Val Acc: 1.0000\n",
      "  ↳ No improvement in val_loss (1/3)\n"
     ]
    },
    {
     "name": "stderr",
     "output_type": "stream",
     "text": [
      "Training: 100%|█████████████████████████████████| 47/47 [10:27<00:00, 13.35s/it]\n",
      "Validation: 100%|███████████████████████████████| 12/12 [01:43<00:00,  8.65s/it]\n"
     ]
    },
    {
     "name": "stdout",
     "output_type": "stream",
     "text": [
      "Epoch 21: Train Loss: 0.0428, Train Acc: 0.9920 | Val Loss: 0.0027, Val Acc: 1.0000\n",
      "  ↳ No improvement in val_loss (2/3)\n"
     ]
    },
    {
     "name": "stderr",
     "output_type": "stream",
     "text": [
      "Training: 100%|█████████████████████████████████| 47/47 [10:43<00:00, 13.68s/it]\n",
      "Validation: 100%|███████████████████████████████| 12/12 [01:50<00:00,  9.23s/it]\n"
     ]
    },
    {
     "name": "stdout",
     "output_type": "stream",
     "text": [
      "Epoch 22: Train Loss: 0.0236, Train Acc: 1.0000 | Val Loss: 0.0011, Val Acc: 1.0000\n"
     ]
    },
    {
     "name": "stderr",
     "output_type": "stream",
     "text": [
      "Training: 100%|█████████████████████████████████| 47/47 [10:58<00:00, 14.02s/it]\n",
      "Validation: 100%|███████████████████████████████| 12/12 [01:45<00:00,  8.76s/it]\n"
     ]
    },
    {
     "name": "stdout",
     "output_type": "stream",
     "text": [
      "Epoch 23: Train Loss: 0.0177, Train Acc: 1.0000 | Val Loss: 0.0014, Val Acc: 1.0000\n",
      "  ↳ No improvement in val_loss (1/3)\n"
     ]
    },
    {
     "name": "stderr",
     "output_type": "stream",
     "text": [
      "Training: 100%|█████████████████████████████████| 47/47 [10:48<00:00, 13.80s/it]\n",
      "Validation: 100%|███████████████████████████████| 12/12 [01:47<00:00,  8.98s/it]\n"
     ]
    },
    {
     "name": "stdout",
     "output_type": "stream",
     "text": [
      "Epoch 24: Train Loss: 0.0336, Train Acc: 0.9947 | Val Loss: 0.0019, Val Acc: 1.0000\n",
      "  ↳ No improvement in val_loss (2/3)\n"
     ]
    },
    {
     "name": "stderr",
     "output_type": "stream",
     "text": [
      "Training: 100%|█████████████████████████████████| 47/47 [10:56<00:00, 13.97s/it]\n",
      "Validation: 100%|███████████████████████████████| 12/12 [01:46<00:00,  8.86s/it]\n"
     ]
    },
    {
     "name": "stdout",
     "output_type": "stream",
     "text": [
      "Epoch 25: Train Loss: 0.0449, Train Acc: 0.9893 | Val Loss: 0.0010, Val Acc: 1.0000\n"
     ]
    },
    {
     "name": "stderr",
     "output_type": "stream",
     "text": [
      "Training: 100%|█████████████████████████████████| 47/47 [11:12<00:00, 14.31s/it]\n",
      "Validation: 100%|███████████████████████████████| 12/12 [01:48<00:00,  9.05s/it]\n"
     ]
    },
    {
     "name": "stdout",
     "output_type": "stream",
     "text": [
      "Epoch 26: Train Loss: 0.0114, Train Acc: 1.0000 | Val Loss: 0.0013, Val Acc: 1.0000\n",
      "  ↳ No improvement in val_loss (1/3)\n"
     ]
    },
    {
     "name": "stderr",
     "output_type": "stream",
     "text": [
      "Training: 100%|█████████████████████████████████| 47/47 [11:06<00:00, 14.18s/it]\n",
      "Validation: 100%|███████████████████████████████| 12/12 [01:50<00:00,  9.23s/it]\n"
     ]
    },
    {
     "name": "stdout",
     "output_type": "stream",
     "text": [
      "Epoch 27: Train Loss: 0.0078, Train Acc: 1.0000 | Val Loss: 0.0010, Val Acc: 1.0000\n",
      "  ↳ No improvement in val_loss (2/3)\n"
     ]
    },
    {
     "name": "stderr",
     "output_type": "stream",
     "text": [
      "Training: 100%|█████████████████████████████████| 47/47 [11:04<00:00, 14.15s/it]\n",
      "Validation: 100%|███████████████████████████████| 12/12 [01:45<00:00,  8.76s/it]\n"
     ]
    },
    {
     "name": "stdout",
     "output_type": "stream",
     "text": [
      "Epoch 28: Train Loss: 0.0062, Train Acc: 1.0000 | Val Loss: 0.0011, Val Acc: 1.0000\n",
      "  ↳ No improvement in val_loss (3/3)\n",
      "Early stopping triggered.\n",
      "\n",
      "Fold 5\n"
     ]
    },
    {
     "name": "stderr",
     "output_type": "stream",
     "text": [
      "Training: 100%|█████████████████████████████████| 47/47 [10:49<00:00, 13.82s/it]\n",
      "Validation: 100%|███████████████████████████████| 12/12 [01:46<00:00,  8.86s/it]\n"
     ]
    },
    {
     "name": "stdout",
     "output_type": "stream",
     "text": [
      "Epoch 1: Train Loss: 0.6386, Train Acc: 0.5920 | Val Loss: 0.6374, Val Acc: 0.5054\n"
     ]
    },
    {
     "name": "stderr",
     "output_type": "stream",
     "text": [
      "Training: 100%|█████████████████████████████████| 47/47 [11:01<00:00, 14.07s/it]\n",
      "Validation: 100%|███████████████████████████████| 12/12 [01:46<00:00,  8.86s/it]\n"
     ]
    },
    {
     "name": "stdout",
     "output_type": "stream",
     "text": [
      "Epoch 2: Train Loss: 0.4656, Train Acc: 0.7973 | Val Loss: 0.3462, Val Acc: 0.8065\n"
     ]
    },
    {
     "name": "stderr",
     "output_type": "stream",
     "text": [
      "Training: 100%|█████████████████████████████████| 47/47 [11:01<00:00, 14.08s/it]\n",
      "Validation: 100%|███████████████████████████████| 12/12 [01:48<00:00,  9.02s/it]\n"
     ]
    },
    {
     "name": "stdout",
     "output_type": "stream",
     "text": [
      "Epoch 3: Train Loss: 0.3683, Train Acc: 0.8827 | Val Loss: 0.2549, Val Acc: 1.0000\n"
     ]
    },
    {
     "name": "stderr",
     "output_type": "stream",
     "text": [
      "Training: 100%|█████████████████████████████████| 47/47 [11:14<00:00, 14.34s/it]\n",
      "Validation: 100%|███████████████████████████████| 12/12 [01:52<00:00,  9.34s/it]\n"
     ]
    },
    {
     "name": "stdout",
     "output_type": "stream",
     "text": [
      "Epoch 4: Train Loss: 0.2320, Train Acc: 0.9760 | Val Loss: 0.1541, Val Acc: 1.0000\n"
     ]
    },
    {
     "name": "stderr",
     "output_type": "stream",
     "text": [
      "Training: 100%|█████████████████████████████████| 47/47 [10:59<00:00, 14.03s/it]\n",
      "Validation: 100%|███████████████████████████████| 12/12 [01:45<00:00,  8.75s/it]\n"
     ]
    },
    {
     "name": "stdout",
     "output_type": "stream",
     "text": [
      "Epoch 5: Train Loss: 0.1488, Train Acc: 0.9920 | Val Loss: 0.1314, Val Acc: 0.9892\n"
     ]
    },
    {
     "name": "stderr",
     "output_type": "stream",
     "text": [
      "Training: 100%|█████████████████████████████████| 47/47 [10:27<00:00, 13.35s/it]\n",
      "Validation: 100%|███████████████████████████████| 12/12 [01:44<00:00,  8.73s/it]\n"
     ]
    },
    {
     "name": "stdout",
     "output_type": "stream",
     "text": [
      "Epoch 6: Train Loss: 0.1366, Train Acc: 0.9893 | Val Loss: 0.0407, Val Acc: 1.0000\n"
     ]
    },
    {
     "name": "stderr",
     "output_type": "stream",
     "text": [
      "Training: 100%|█████████████████████████████████| 47/47 [37:52<00:00, 48.35s/it]\n",
      "Validation: 100%|███████████████████████████████| 12/12 [01:44<00:00,  8.68s/it]\n"
     ]
    },
    {
     "name": "stdout",
     "output_type": "stream",
     "text": [
      "Epoch 7: Train Loss: 0.0676, Train Acc: 1.0000 | Val Loss: 0.0314, Val Acc: 1.0000\n"
     ]
    },
    {
     "name": "stderr",
     "output_type": "stream",
     "text": [
      "Training: 100%|█████████████████████████████████| 47/47 [10:32<00:00, 13.47s/it]\n",
      "Validation: 100%|███████████████████████████████| 12/12 [01:44<00:00,  8.72s/it]\n"
     ]
    },
    {
     "name": "stdout",
     "output_type": "stream",
     "text": [
      "Epoch 8: Train Loss: 0.0619, Train Acc: 0.9947 | Val Loss: 0.0160, Val Acc: 1.0000\n"
     ]
    },
    {
     "name": "stderr",
     "output_type": "stream",
     "text": [
      "Training: 100%|█████████████████████████████████| 47/47 [10:36<00:00, 13.54s/it]\n",
      "Validation: 100%|███████████████████████████████| 12/12 [01:43<00:00,  8.65s/it]\n"
     ]
    },
    {
     "name": "stdout",
     "output_type": "stream",
     "text": [
      "Epoch 9: Train Loss: 0.0509, Train Acc: 1.0000 | Val Loss: 0.0167, Val Acc: 1.0000\n",
      "  ↳ No improvement in val_loss (1/3)\n"
     ]
    },
    {
     "name": "stderr",
     "output_type": "stream",
     "text": [
      "Training: 100%|█████████████████████████████████| 47/47 [10:26<00:00, 13.34s/it]\n",
      "Validation: 100%|███████████████████████████████| 12/12 [01:43<00:00,  8.65s/it]\n"
     ]
    },
    {
     "name": "stdout",
     "output_type": "stream",
     "text": [
      "Epoch 10: Train Loss: 0.0430, Train Acc: 0.9973 | Val Loss: 0.0114, Val Acc: 1.0000\n"
     ]
    },
    {
     "name": "stderr",
     "output_type": "stream",
     "text": [
      "Training: 100%|█████████████████████████████████| 47/47 [10:28<00:00, 13.37s/it]\n",
      "Validation: 100%|███████████████████████████████| 12/12 [01:44<00:00,  8.69s/it]\n"
     ]
    },
    {
     "name": "stdout",
     "output_type": "stream",
     "text": [
      "Epoch 11: Train Loss: 0.0303, Train Acc: 1.0000 | Val Loss: 0.0067, Val Acc: 1.0000\n"
     ]
    },
    {
     "name": "stderr",
     "output_type": "stream",
     "text": [
      "Training: 100%|█████████████████████████████████| 47/47 [10:27<00:00, 13.35s/it]\n",
      "Validation: 100%|███████████████████████████████| 12/12 [01:43<00:00,  8.67s/it]\n"
     ]
    },
    {
     "name": "stdout",
     "output_type": "stream",
     "text": [
      "Epoch 12: Train Loss: 0.0341, Train Acc: 1.0000 | Val Loss: 0.0077, Val Acc: 1.0000\n",
      "  ↳ No improvement in val_loss (1/3)\n"
     ]
    },
    {
     "name": "stderr",
     "output_type": "stream",
     "text": [
      "Training: 100%|█████████████████████████████████| 47/47 [10:26<00:00, 13.33s/it]\n",
      "Validation: 100%|███████████████████████████████| 12/12 [01:43<00:00,  8.61s/it]\n"
     ]
    },
    {
     "name": "stdout",
     "output_type": "stream",
     "text": [
      "Epoch 13: Train Loss: 0.0277, Train Acc: 1.0000 | Val Loss: 0.0034, Val Acc: 1.0000\n"
     ]
    },
    {
     "name": "stderr",
     "output_type": "stream",
     "text": [
      "Training: 100%|█████████████████████████████████| 47/47 [10:25<00:00, 13.31s/it]\n",
      "Validation: 100%|███████████████████████████████| 12/12 [01:44<00:00,  8.70s/it]\n"
     ]
    },
    {
     "name": "stdout",
     "output_type": "stream",
     "text": [
      "Epoch 14: Train Loss: 0.0259, Train Acc: 1.0000 | Val Loss: 0.0028, Val Acc: 1.0000\n"
     ]
    },
    {
     "name": "stderr",
     "output_type": "stream",
     "text": [
      "Training: 100%|█████████████████████████████████| 47/47 [10:24<00:00, 13.30s/it]\n",
      "Validation: 100%|███████████████████████████████| 12/12 [01:43<00:00,  8.63s/it]\n"
     ]
    },
    {
     "name": "stdout",
     "output_type": "stream",
     "text": [
      "Epoch 15: Train Loss: 0.0234, Train Acc: 1.0000 | Val Loss: 0.0136, Val Acc: 1.0000\n",
      "  ↳ No improvement in val_loss (1/3)\n"
     ]
    },
    {
     "name": "stderr",
     "output_type": "stream",
     "text": [
      "Training: 100%|█████████████████████████████████| 47/47 [10:26<00:00, 13.32s/it]\n",
      "Validation: 100%|███████████████████████████████| 12/12 [01:45<00:00,  8.77s/it]\n"
     ]
    },
    {
     "name": "stdout",
     "output_type": "stream",
     "text": [
      "Epoch 16: Train Loss: 0.0397, Train Acc: 0.9893 | Val Loss: 0.0036, Val Acc: 1.0000\n",
      "  ↳ No improvement in val_loss (2/3)\n"
     ]
    },
    {
     "name": "stderr",
     "output_type": "stream",
     "text": [
      "Training: 100%|█████████████████████████████████| 47/47 [10:28<00:00, 13.37s/it]\n",
      "Validation: 100%|███████████████████████████████| 12/12 [01:43<00:00,  8.65s/it]"
     ]
    },
    {
     "name": "stdout",
     "output_type": "stream",
     "text": [
      "Epoch 17: Train Loss: 0.0491, Train Acc: 0.9947 | Val Loss: 0.0073, Val Acc: 1.0000\n",
      "  ↳ No improvement in val_loss (3/3)\n",
      "Early stopping triggered.\n",
      "\n",
      "===== Cross-Validation Summary =====\n",
      "Avg Train Loss: 0.0179\n",
      "Avg Val Loss:   0.0026\n",
      "Avg Train Acc:  0.9989\n",
      "Avg Val Acc:    1.0000\n",
      "\n",
      "train_losses_fold1 = [0.6176061617567185, 0.4500378319557677, 0.29243820715457836, 0.19944189552296984, 0.14436512876381266, 0.10014128772185203, 0.08900764533021349, 0.06014033739871167, 0.04950284765676615, 0.07518097587880936, 0.03628695142911153, 0.04263609828070757, 0.030664141894258718, 0.057724876794964075, 0.03170165359141662, 0.03052690232846331, 0.05669730662942884, 0.03326683979917397, 0.02442860084665107, 0.01758488057121793, 0.013345161457843285, 0.020313746055607942, 0.012842610820216383, 0.02242524144388339, 0.010735732550296853, 0.07439367033471848, 0.03772192082040884, 0.010717346516259491, 0.009393313638321025]\n",
      "\n",
      "train_losses_fold2 = [0.668664129490548, 0.4828578601492212, 0.33757157940813837, 0.2436383090754773, 0.12866196496055482, 0.11736531484317272, 0.09170830091263385, 0.06096863475172443, 0.06699086640505715, 0.047207047370202995, 0.03997893189575444, 0.023446078055558053, 0.0354972196782523, 0.025950704651706395, 0.019341041116004296, 0.022368599457587016, 0.024754016972246006, 0.01153541580238875, 0.012136810531027298, 0.014594494803570845, 0.04972063614293299, 0.012845752446198875, 0.014671988270067155, 0.04494733513739119, 0.021231746608193252, 0.04177246929612011, 0.07829486758651291, 0.009986138449327902, 0.011332292020558677]\n",
      "\n",
      "train_losses_fold3 = [0.6472510188183886, 0.5182609462991674, 0.3925422379311095, 0.26401340707819515, 0.16660978692643186, 0.11490080109302034, 0.07215601784434725, 0.05303920579558991, 0.037827756454018834, 0.043024219116790496, 0.03919586743366845, 0.02212724049000981, 0.01743638058728043, 0.03493327336346216, 0.016127153725779438, 0.012237644595827194, 0.013296501156180463]\n",
      "\n",
      "train_losses_fold4 = [0.6265552982370904, 0.4455668862829817, 0.31172194506259676, 0.2137466000115618, 0.16223732778366576, 0.10154394575573028, 0.08313360180150955, 0.11048769713082213, 0.08358848475395365, 0.05300947843476179, 0.03447258443710335, 0.033408720502035416, 0.053604512376354094, 0.025958520578260116, 0.04113663475405663, 0.038904119005545655, 0.033324534058610494, 0.013924533932251817, 0.028611509778358517, 0.010056486061001395, 0.04275617277140709, 0.023582794946281516, 0.017731261533744474, 0.03361664452847648, 0.04494830084211649, 0.011352280112716587, 0.007841477339017265, 0.006157734121711171]\n",
      "\n",
      "train_losses_fold5 = [0.6385916065662465, 0.46558033342057087, 0.3682600386599277, 0.23195420871389674, 0.14882220216888062, 0.13664429135462072, 0.06757471742148095, 0.06186850737542548, 0.050857963317886314, 0.04296658394184518, 0.030297157206037578, 0.034058547965151835, 0.027697660276626655, 0.02590329020700239, 0.023413710558707727, 0.03972728115982039, 0.04914933535706331]\n",
      "val_losses_fold1 = [0.6031174212694168, 0.2724411350985368, 0.13360699887077013, 0.13568308856338263, 0.06376027005414169, 0.04122607766961058, 0.020047628165533144, 0.014703305438160896, 0.009943237605815133, 0.006148573903677364, 0.007436353519248466, 0.005330790843193729, 0.004499690859423329, 0.0032904164011900625, 0.0038263753910238543, 0.0034348934423178434, 0.002296657864159594, 0.001773594393550108, 0.002356132201384753, 0.0014725686002445097, 0.0012352869356012282, 0.0008839598352399965, 0.0007252944415085949, 0.004582937360585977, 0.0009331082207305977, 0.0004493783659806165, 0.0007116801231556261, 0.0008789057901594788, 0.0009519354935036972]\n",
      "val_losses_fold2 = [0.59571806093057, 0.32796405255794525, 0.15587944351136684, 0.1033913108209769, 0.057553936106463276, 0.03627543772260348, 0.024427885344872873, 0.01665520986231665, 0.02872108311081926, 0.010725028968105713, 0.009807680500671268, 0.005708136207734545, 0.005774819486153622, 0.00541147969973584, 0.00361275397396336, 0.0050476391819150495, 0.0031447391860031835, 0.0020903203597602746, 0.002565689782689636, 0.0025527001125738025, 0.0016345529972265165, 0.0013420442798330139, 0.0010591518172683816, 0.004157204607812067, 0.0019933165264471122, 0.0006734559428878129, 0.005762576765846461, 0.0007593514092150144, 0.000687789494501582]\n",
      "val_losses_fold3 = [0.6276384790738424, 0.41391894966363907, 0.31929033373792964, 0.20033598318696022, 0.08292646644016106, 0.06546537205576897, 0.026033544059221942, 0.025228439985464018, 0.01545812104207774, 0.020321001211414114, 0.18814591225236654, 0.006526419388440748, 0.007167276771118243, 0.002317964128451422, 0.006854062667116523, 0.002838059008354321, 0.0031140973636259637]\n",
      "val_losses_fold4 = [0.5616559386253357, 0.2622143290936947, 0.15652618184685707, 0.08302711540212233, 0.06046242235849301, 0.03381924889981747, 0.038967765402048826, 0.015352437738329172, 0.012432816360766688, 0.006812654590855042, 0.00570468557998538, 0.00692763786840563, 0.0038799805915914476, 0.0021589800696043917, 0.0026338767105092606, 0.0025748403083222606, 0.0014013311883900315, 0.004172788137414803, 0.0011034735119513546, 0.001362903033926462, 0.0027215192967560142, 0.0010751606945026044, 0.0013977940009984497, 0.0018601045788576205, 0.0010057547624455765, 0.0012944540261135746, 0.001015654828127784, 0.0010728038663122181]\n",
      "val_losses_fold5 = [0.6374242107073466, 0.3461657476921876, 0.2549068902929624, 0.15406533951560655, 0.1314380057156086, 0.04066688288003206, 0.031376268404225506, 0.01602677806901435, 0.01665724782894055, 0.01142544625326991, 0.0066808348055928946, 0.007661058334633708, 0.003364936235205581, 0.002777639077976346, 0.013585597509518266, 0.003645000203202168, 0.007254807996408393]\n"
     ]
    },
    {
     "name": "stderr",
     "output_type": "stream",
     "text": [
      "\n"
     ]
    }
   ],
   "source": [
    "all_fold_train_losses = []\n",
    "all_fold_val_losses = []\n",
    "all_fold_train_accuracies = []\n",
    "all_fold_val_accuracies = []\n",
    "\n",
    "\n",
    "per_fold_train_loss_history = {}\n",
    "per_fold_val_loss_history = {}\n",
    "\n",
    "skf = StratifiedKFold(n_splits=5, shuffle=True, random_state=42)\n",
    "num_epochs = 30\n",
    "\n",
    "for fold, (train_idx, val_idx) in enumerate(skf.split(X, y)):\n",
    "    print(f\"\\nFold {fold+1}\")\n",
    "\n",
    "    train_set = Subset(dataset, train_idx)\n",
    "    val_set = Subset(dataset, val_idx)\n",
    "    train_loader = DataLoader(train_set, batch_size=8, shuffle=True)\n",
    "    val_loader = DataLoader(val_set, batch_size=8, shuffle=False)\n",
    "\n",
    "    model = resnet10(sample_input_D=32, sample_input_H=256, sample_input_W=256, nclasses=1)\n",
    "\n",
    "  \n",
    "    pretrain_weights = \"MedicalNet_pytorch_files/pretrain/resnet_10.pth\"\n",
    "    pretrain_model = torch.load(pretrain_weights, map_location=device)\n",
    "    state_dict = pretrain_model['state_dict']\n",
    "    new_state_dict = {k.replace('module.', ''): v for k, v in state_dict.items()}\n",
    "    model.load_state_dict(new_state_dict, strict=False)\n",
    "\n",
    "    model = model.to(device)\n",
    "\n",
    "\n",
    "    for param in model.parameters():\n",
    "        param.requires_grad = True\n",
    "\n",
    "    optimizer = torch.optim.Adam(model.parameters(), lr=1e-4)\n",
    "    loss_fn = nn.BCEWithLogitsLoss()\n",
    "\n",
    "    best_val_loss = float('inf')\n",
    "    patience = 3\n",
    "    patience_counter = 0\n",
    "\n",
    "    train_losses = []\n",
    "    val_losses = []\n",
    "    train_accuracies = []\n",
    "    val_accuracies = []\n",
    "\n",
    "    for e in range(num_epochs):\n",
    "        train_loss, train_acc = training_loop(model, train_loader, loss_fn, optimizer, device)\n",
    "        val_loss, val_acc = validation_loop(model, val_loader, loss_fn, device)\n",
    "\n",
    "        train_losses.append(train_loss)\n",
    "        val_losses.append(val_loss)\n",
    "        train_accuracies.append(train_acc)\n",
    "        val_accuracies.append(val_acc)\n",
    "\n",
    "        print(f\"Epoch {e+1}: \"\n",
    "              f\"Train Loss: {train_loss:.4f}, Train Acc: {train_acc:.4f} | \"\n",
    "              f\"Val Loss: {val_loss:.4f}, Val Acc: {val_acc:.4f}\")\n",
    "\n",
    "        if val_loss < best_val_loss:\n",
    "            best_val_loss = val_loss\n",
    "            patience_counter = 0\n",
    "            torch.save(model.state_dict(), f\"best_model_approach2_fold{fold+1}.pth\")\n",
    "        else:\n",
    "            patience_counter += 1\n",
    "            print(f\"  ↳ No improvement in val_loss ({patience_counter}/{patience})\")\n",
    "\n",
    "        if patience_counter >= patience:\n",
    "            print(\"Early stopping triggered.\")\n",
    "            break\n",
    "\n",
    "    \n",
    "    all_fold_train_losses.append(train_losses[-1])\n",
    "    all_fold_val_losses.append(val_losses[-1])\n",
    "    all_fold_train_accuracies.append(train_accuracies[-1])\n",
    "    all_fold_val_accuracies.append(val_accuracies[-1])\n",
    "\n",
    "    per_fold_train_loss_history[f\"train_losses_fold{fold+1}\"] = train_losses\n",
    "    per_fold_val_loss_history[f\"val_losses_fold{fold+1}\"] = val_losses\n",
    "\n",
    "\n",
    "print(\"\\n===== Cross-Validation Summary =====\")\n",
    "print(f\"Avg Train Loss: {np.mean(all_fold_train_losses):.4f}\")\n",
    "print(f\"Avg Val Loss:   {np.mean(all_fold_val_losses):.4f}\")\n",
    "print(f\"Avg Train Acc:  {np.mean(all_fold_train_accuracies):.4f}\")\n",
    "print(f\"Avg Val Acc:    {np.mean(all_fold_val_accuracies):.4f}\")\n",
    "\n",
    "\n",
    "for k in per_fold_train_loss_history:\n",
    "    print(f\"\\n{k} = {per_fold_train_loss_history[k]}\")\n",
    "for k in per_fold_val_loss_history:\n",
    "    print(f\"{k} = {per_fold_val_loss_history[k]}\")"
   ]
  },
  {
   "cell_type": "code",
   "execution_count": 10,
   "id": "5ce60451-4a83-489d-ab2a-f5d6c9525bf2",
   "metadata": {},
   "outputs": [
    {
     "name": "stderr",
     "output_type": "stream",
     "text": [
      "Fold 1: 100%|███████████████████████████████████| 25/25 [00:29<00:00,  1.17s/it]\n"
     ]
    },
    {
     "name": "stdout",
     "output_type": "stream",
     "text": [
      "\n",
      "Fold 1 Results:\n",
      "  Accuracy  : 1.0000\n",
      "  Precision : 1.0000\n",
      "  Recall    : 1.0000\n",
      "  F1 Score  : 1.0000\n",
      "  ROC AUC   : 1.0000\n"
     ]
    },
    {
     "name": "stderr",
     "output_type": "stream",
     "text": [
      "Fold 2: 100%|███████████████████████████████████| 25/25 [00:28<00:00,  1.16s/it]\n"
     ]
    },
    {
     "name": "stdout",
     "output_type": "stream",
     "text": [
      "\n",
      "Fold 2 Results:\n",
      "  Accuracy  : 1.0000\n",
      "  Precision : 1.0000\n",
      "  Recall    : 1.0000\n",
      "  F1 Score  : 1.0000\n",
      "  ROC AUC   : 1.0000\n"
     ]
    },
    {
     "name": "stderr",
     "output_type": "stream",
     "text": [
      "Fold 3: 100%|███████████████████████████████████| 25/25 [00:28<00:00,  1.14s/it]\n"
     ]
    },
    {
     "name": "stdout",
     "output_type": "stream",
     "text": [
      "\n",
      "Fold 3 Results:\n",
      "  Accuracy  : 1.0000\n",
      "  Precision : 1.0000\n",
      "  Recall    : 1.0000\n",
      "  F1 Score  : 1.0000\n",
      "  ROC AUC   : 1.0000\n"
     ]
    },
    {
     "name": "stderr",
     "output_type": "stream",
     "text": [
      "Fold 4: 100%|███████████████████████████████████| 25/25 [00:29<00:00,  1.16s/it]\n"
     ]
    },
    {
     "name": "stdout",
     "output_type": "stream",
     "text": [
      "\n",
      "Fold 4 Results:\n",
      "  Accuracy  : 1.0000\n",
      "  Precision : 1.0000\n",
      "  Recall    : 1.0000\n",
      "  F1 Score  : 1.0000\n",
      "  ROC AUC   : 1.0000\n"
     ]
    },
    {
     "name": "stderr",
     "output_type": "stream",
     "text": [
      "Fold 5: 100%|███████████████████████████████████| 25/25 [00:29<00:00,  1.17s/it]\n"
     ]
    },
    {
     "name": "stdout",
     "output_type": "stream",
     "text": [
      "\n",
      "Fold 5 Results:\n",
      "  Accuracy  : 1.0000\n",
      "  Precision : 1.0000\n",
      "  Recall    : 1.0000\n",
      "  F1 Score  : 1.0000\n",
      "  ROC AUC   : 1.0000\n",
      "\n",
      "===== Cross-Fold Test Summary =====\n",
      "Accuracy  : 1.0000 ± 0.0000\n",
      "Precision : 1.0000 ± 0.0000\n",
      "Recall    : 1.0000 ± 0.0000\n",
      "F1        : 1.0000 ± 0.0000\n",
      "Roc_auc   : 1.0000 ± 0.0000\n"
     ]
    },
    {
     "data": {
      "image/png": "[encoded data removed]",
      "text/plain": [
       "<Figure size 800x600 with 1 Axes>"
      ]
     },
     "metadata": {},
     "output_type": "display_data"
    }
   ],
   "source": [
    "device = torch.device(\"cuda\" if torch.cuda.is_available() else \"cpu\")\n",
    "\n",
    "# List of best model files for each fold\n",
    "model_paths = [\n",
    "    \"best_model_approach2_fold1.pth\",\n",
    "    \"best_model_approach2_fold2.pth\",\n",
    "    \"best_model_approach2_fold3.pth\",\n",
    "    \"best_model_approach2_fold4.pth\",\n",
    "    \"best_model_approach2_fold5.pth\"\n",
    "]\n",
    "\n",
    "# Set up test dataset\n",
    "test_set = CustomDataset('data/ZStacksWTMUT/test.txt', base_dir=Path(\"data/ZStacksWTMUT\"))\n",
    "test_loader = DataLoader(test_set, batch_size=1, shuffle=False)\n",
    "\n",
    "# Store metrics and ROC data\n",
    "metrics = {\n",
    "    'accuracy': [],\n",
    "    'precision': [],\n",
    "    'recall': [],\n",
    "    'f1': [],\n",
    "    'roc_auc': []\n",
    "}\n",
    "roc_data = []\n",
    "\n",
    "for fold, model_path in enumerate(model_paths, 1):\n",
    "    model = resnet10(sample_input_D=32, sample_input_H=256, sample_input_W=256, nclasses=1)\n",
    "    model.load_state_dict(torch.load(model_path))\n",
    "    model.to(device)\n",
    "    model.eval()\n",
    "\n",
    "    all_preds, all_probs, all_labels = [], [], []\n",
    "\n",
    "    with torch.no_grad():\n",
    "        for inputs, labels in tqdm(test_loader, desc=f\"Fold {fold}\"):\n",
    "            inputs = inputs.to(device)\n",
    "            labels = labels.to(device)\n",
    "\n",
    "            outputs = model(inputs)\n",
    "            probs = torch.sigmoid(outputs).view(-1)\n",
    "            preds = (probs > 0.5).int()\n",
    "\n",
    "            all_preds.extend(preds.cpu().numpy())\n",
    "            all_probs.extend(probs.cpu().numpy())\n",
    "            all_labels.extend(labels.cpu().numpy())\n",
    "\n",
    "    # Compute metrics\n",
    "    acc = accuracy_score(all_labels, all_preds)\n",
    "    prec = precision_score(all_labels, all_preds)\n",
    "    rec = recall_score(all_labels, all_preds)\n",
    "    f1 = f1_score(all_labels, all_preds)\n",
    "    roc_auc = roc_auc_score(all_labels, all_probs)\n",
    "    fpr, tpr, _ = roc_curve(all_labels, all_probs)\n",
    "\n",
    "    # Store for plotting\n",
    "    roc_data.append((fpr, tpr, roc_auc))\n",
    "\n",
    "    print(f\"\\nFold {fold} Results:\")\n",
    "    print(f\"  Accuracy  : {acc:.4f}\")\n",
    "    print(f\"  Precision : {prec:.4f}\")\n",
    "    print(f\"  Recall    : {rec:.4f}\")\n",
    "    print(f\"  F1 Score  : {f1:.4f}\")\n",
    "    print(f\"  ROC AUC   : {roc_auc:.4f}\")\n",
    "\n",
    "    metrics['accuracy'].append(acc)\n",
    "    metrics['precision'].append(prec)\n",
    "    metrics['recall'].append(rec)\n",
    "    metrics['f1'].append(f1)\n",
    "    metrics['roc_auc'].append(roc_auc)\n",
    "\n",
    "# Print summary\n",
    "print(\"\\n===== Cross-Fold Test Summary =====\")\n",
    "for key in metrics:\n",
    "    mean = np.mean(metrics[key])\n",
    "    std = np.std(metrics[key])\n",
    "    print(f\"{key.capitalize():<10}: {mean:.4f} ± {std:.4f}\")\n",
    "\n",
    "mean_fpr = np.linspace(0, 1, 100)\n",
    "tprs, aucs = [], []\n",
    "\n",
    "plt.figure(figsize=(8, 6))\n",
    "\n",
    "for i, (fpr, tpr, roc_auc) in enumerate(roc_data):\n",
    "    interp_tpr = np.interp(mean_fpr, fpr, tpr)\n",
    "    interp_tpr[0] = 0.0\n",
    "    tprs.append(interp_tpr)\n",
    "    aucs.append(roc_auc)\n",
    "    plt.plot(mean_fpr, interp_tpr, lw=1.5, label=f'Fold {i+1} (AUC = {roc_auc:.2f})')\n",
    "\n",
    "mean_tpr = np.mean(tprs, axis=0)\n",
    "std_tpr = np.std(tprs, axis=0)\n",
    "mean_auc = auc(mean_fpr, mean_tpr)\n",
    "std_auc = np.std(aucs)\n",
    "\n",
    "plt.plot(mean_fpr, mean_tpr, color='black', linestyle='--',\n",
    "         label=f'Mean ROC (AUC = {mean_auc:.2f} ± {std_auc:.2f})', lw=2.5)\n",
    "plt.fill_between(mean_fpr, np.maximum(mean_tpr - std_tpr, 0), np.minimum(mean_tpr + std_tpr, 1),\n",
    "                 color='grey', alpha=0.2, label='±1 std. dev.')\n",
    "\n",
    "plt.plot([0, 1], [0, 1], 'k--', lw=1, label='Random')\n",
    "plt.xlabel('False Positive Rate')\n",
    "plt.ylabel('True Positive Rate')\n",
    "plt.title('Smoothed ROC Curve Across Folds')\n",
    "plt.legend(loc='lower right')\n",
    "plt.grid(True)\n",
    "plt.tight_layout()\n",
    "plt.savefig('roc_smoothed_all_folds.png', dpi=300)\n",
    "plt.show()"
   ]
  }
 ],
 "metadata": {
  "kernelspec": {
   "display_name": "Python 3 (ipykernel)",
   "language": "python",
   "name": "python3"
  },
  "language_info": {
   "codemirror_mode": {
    "name": "ipython",
    "version": 3
   },
   "file_extension": ".py",
   "mimetype": "text/x-python",
   "name": "python",
   "nbconvert_exporter": "python",
   "pygments_lexer": "ipython3",
   "version": "3.9.21"
  }
 },
 "nbformat": 4,
 "nbformat_minor": 5
}
